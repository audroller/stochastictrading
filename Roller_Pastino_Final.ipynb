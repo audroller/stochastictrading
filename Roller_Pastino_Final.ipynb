{
 "cells": [
  {
   "cell_type": "code",
   "execution_count": 1,
   "id": "c5e6b95a-1dfe-4d1f-a450-a832100e3de0",
   "metadata": {
    "tags": []
   },
   "outputs": [],
   "source": [
    "#######\n",
    "# Starter code for discretization for Markov Chain\n",
    "#\n",
    "# Stock Data:\n",
    "#\n",
    "# You will need to install the YahooFinance Python api\n",
    "#\n",
    "# Using Anaconda environment:\n",
    "# - conda install -c conda-forge yfinance\n",
    "#\n",
    "# Using pip \n",
    "# - pip install yfinance\n",
    "#\n",
    "# Veryify it is installed by importing it in your Jupyter Notebook.\n",
    "# If you cannot get it to install, you can always Google Search\n",
    "# \"install yfinance Python library\"  and it will give you search results\n",
    "# that walk you through.   As of 13-Nov-2024 both methods work.\n",
    "#\n",
    "# https://stackoverflow.com/questions/39636128/yahoo-finance-package-installation-in-anaconda\n",
    "###"
   ]
  },
  {
   "cell_type": "code",
   "execution_count": 2,
   "id": "0a91bd62-3560-43d4-9a2f-765844bb5805",
   "metadata": {
    "tags": []
   },
   "outputs": [],
   "source": [
    "import pandas as pd\n",
    "import matplotlib.pyplot as plt\n",
    "import numpy as np\n",
    "import numpy.matlib\n",
    "import numpy.linalg\n",
    "\n",
    "import yfinance as yf\n",
    "import pandas as pd"
   ]
  },
  {
   "cell_type": "code",
   "execution_count": 3,
   "id": "40502042",
   "metadata": {},
   "outputs": [],
   "source": [
    "#####\n",
    "# 12-month data from 11/12/2023 to 11/12/2024\n",
    "##\n",
    "FY2024_START='2023-01-01'\n",
    "FY2024_END='2023-11-13'\n",
    "\n",
    "appleTicker='AAPL'\n",
    "nvidiaTicker='NVDA'"
   ]
  },
  {
   "cell_type": "code",
   "execution_count": 4,
   "id": "311b90a3-8f32-4811-9687-4b4dc4ff5b2a",
   "metadata": {
    "tags": []
   },
   "outputs": [],
   "source": [
    "NUM_BINS= 3"
   ]
  },
  {
   "cell_type": "code",
   "execution_count": 5,
   "id": "7e6811e8-c6bb-4f31-9a0f-c7ec3121cf4b",
   "metadata": {},
   "outputs": [
    {
     "name": "stderr",
     "output_type": "stream",
     "text": [
      "[*********************100%***********************]  1 of 1 completed\n",
      "[*********************100%***********************]  1 of 1 completed\n"
     ]
    }
   ],
   "source": [
    "nvidiaData= yf.download(nvidiaTicker, start=FY2024_START,end= FY2024_END)\n",
    "aaplData= yf.download(appleTicker, start=FY2024_START,end=FY2024_END)"
   ]
  },
  {
   "cell_type": "code",
   "execution_count": 6,
   "id": "adaf483e-0040-4dac-baf8-34a9ceebd698",
   "metadata": {},
   "outputs": [
    {
     "data": {
      "text/html": [
       "<div>\n",
       "<style scoped>\n",
       "    .dataframe tbody tr th:only-of-type {\n",
       "        vertical-align: middle;\n",
       "    }\n",
       "\n",
       "    .dataframe tbody tr th {\n",
       "        vertical-align: top;\n",
       "    }\n",
       "\n",
       "    .dataframe thead tr th {\n",
       "        text-align: left;\n",
       "    }\n",
       "\n",
       "    .dataframe thead tr:last-of-type th {\n",
       "        text-align: right;\n",
       "    }\n",
       "</style>\n",
       "<table border=\"1\" class=\"dataframe\">\n",
       "  <thead>\n",
       "    <tr>\n",
       "      <th>Price</th>\n",
       "      <th>Adj Close</th>\n",
       "      <th>Close</th>\n",
       "      <th>High</th>\n",
       "      <th>Low</th>\n",
       "      <th>Open</th>\n",
       "      <th>Volume</th>\n",
       "    </tr>\n",
       "    <tr>\n",
       "      <th>Ticker</th>\n",
       "      <th>NVDA</th>\n",
       "      <th>NVDA</th>\n",
       "      <th>NVDA</th>\n",
       "      <th>NVDA</th>\n",
       "      <th>NVDA</th>\n",
       "      <th>NVDA</th>\n",
       "    </tr>\n",
       "    <tr>\n",
       "      <th>Date</th>\n",
       "      <th></th>\n",
       "      <th></th>\n",
       "      <th></th>\n",
       "      <th></th>\n",
       "      <th></th>\n",
       "      <th></th>\n",
       "    </tr>\n",
       "  </thead>\n",
       "  <tbody>\n",
       "    <tr>\n",
       "      <th>2023-01-03</th>\n",
       "      <td>14.305581</td>\n",
       "      <td>14.315</td>\n",
       "      <td>14.996</td>\n",
       "      <td>14.096</td>\n",
       "      <td>14.851</td>\n",
       "      <td>401277000</td>\n",
       "    </tr>\n",
       "    <tr>\n",
       "      <th>2023-01-04</th>\n",
       "      <td>14.739295</td>\n",
       "      <td>14.749</td>\n",
       "      <td>14.853</td>\n",
       "      <td>14.241</td>\n",
       "      <td>14.567</td>\n",
       "      <td>431324000</td>\n",
       "    </tr>\n",
       "    <tr>\n",
       "      <th>2023-01-05</th>\n",
       "      <td>14.255614</td>\n",
       "      <td>14.265</td>\n",
       "      <td>14.564</td>\n",
       "      <td>14.148</td>\n",
       "      <td>14.491</td>\n",
       "      <td>389168000</td>\n",
       "    </tr>\n",
       "    <tr>\n",
       "      <th>2023-01-06</th>\n",
       "      <td>14.849223</td>\n",
       "      <td>14.859</td>\n",
       "      <td>15.010</td>\n",
       "      <td>14.034</td>\n",
       "      <td>14.474</td>\n",
       "      <td>405044000</td>\n",
       "    </tr>\n",
       "    <tr>\n",
       "      <th>2023-01-09</th>\n",
       "      <td>15.617717</td>\n",
       "      <td>15.628</td>\n",
       "      <td>16.056</td>\n",
       "      <td>15.141</td>\n",
       "      <td>15.284</td>\n",
       "      <td>504231000</td>\n",
       "    </tr>\n",
       "  </tbody>\n",
       "</table>\n",
       "</div>"
      ],
      "text/plain": [
       "Price       Adj Close   Close    High     Low    Open     Volume\n",
       "Ticker           NVDA    NVDA    NVDA    NVDA    NVDA       NVDA\n",
       "Date                                                            \n",
       "2023-01-03  14.305581  14.315  14.996  14.096  14.851  401277000\n",
       "2023-01-04  14.739295  14.749  14.853  14.241  14.567  431324000\n",
       "2023-01-05  14.255614  14.265  14.564  14.148  14.491  389168000\n",
       "2023-01-06  14.849223  14.859  15.010  14.034  14.474  405044000\n",
       "2023-01-09  15.617717  15.628  16.056  15.141  15.284  504231000"
      ]
     },
     "execution_count": 6,
     "metadata": {},
     "output_type": "execute_result"
    }
   ],
   "source": [
    "nvidiaData.head()"
   ]
  },
  {
   "cell_type": "code",
   "execution_count": 7,
   "id": "aa5b4232-7004-4d9c-bdb1-61faf6a94950",
   "metadata": {
    "tags": []
   },
   "outputs": [
    {
     "data": {
      "text/html": [
       "<div>\n",
       "<style scoped>\n",
       "    .dataframe tbody tr th:only-of-type {\n",
       "        vertical-align: middle;\n",
       "    }\n",
       "\n",
       "    .dataframe tbody tr th {\n",
       "        vertical-align: top;\n",
       "    }\n",
       "\n",
       "    .dataframe thead tr th {\n",
       "        text-align: left;\n",
       "    }\n",
       "\n",
       "    .dataframe thead tr:last-of-type th {\n",
       "        text-align: right;\n",
       "    }\n",
       "</style>\n",
       "<table border=\"1\" class=\"dataframe\">\n",
       "  <thead>\n",
       "    <tr>\n",
       "      <th>Price</th>\n",
       "      <th>Adj Close</th>\n",
       "      <th>Close</th>\n",
       "      <th>High</th>\n",
       "      <th>Low</th>\n",
       "      <th>Open</th>\n",
       "      <th>Volume</th>\n",
       "    </tr>\n",
       "    <tr>\n",
       "      <th>Ticker</th>\n",
       "      <th>AAPL</th>\n",
       "      <th>AAPL</th>\n",
       "      <th>AAPL</th>\n",
       "      <th>AAPL</th>\n",
       "      <th>AAPL</th>\n",
       "      <th>AAPL</th>\n",
       "    </tr>\n",
       "    <tr>\n",
       "      <th>Date</th>\n",
       "      <th></th>\n",
       "      <th></th>\n",
       "      <th></th>\n",
       "      <th></th>\n",
       "      <th></th>\n",
       "      <th></th>\n",
       "    </tr>\n",
       "  </thead>\n",
       "  <tbody>\n",
       "    <tr>\n",
       "      <th>2023-01-03</th>\n",
       "      <td>123.768448</td>\n",
       "      <td>125.070000</td>\n",
       "      <td>130.899994</td>\n",
       "      <td>124.169998</td>\n",
       "      <td>130.279999</td>\n",
       "      <td>112117500</td>\n",
       "    </tr>\n",
       "    <tr>\n",
       "      <th>2023-01-04</th>\n",
       "      <td>125.045044</td>\n",
       "      <td>126.360001</td>\n",
       "      <td>128.660004</td>\n",
       "      <td>125.080002</td>\n",
       "      <td>126.889999</td>\n",
       "      <td>89113600</td>\n",
       "    </tr>\n",
       "    <tr>\n",
       "      <th>2023-01-05</th>\n",
       "      <td>123.718979</td>\n",
       "      <td>125.019997</td>\n",
       "      <td>127.769997</td>\n",
       "      <td>124.760002</td>\n",
       "      <td>127.129997</td>\n",
       "      <td>80962700</td>\n",
       "    </tr>\n",
       "    <tr>\n",
       "      <th>2023-01-06</th>\n",
       "      <td>128.271103</td>\n",
       "      <td>129.619995</td>\n",
       "      <td>130.289993</td>\n",
       "      <td>124.889999</td>\n",
       "      <td>126.010002</td>\n",
       "      <td>87754700</td>\n",
       "    </tr>\n",
       "    <tr>\n",
       "      <th>2023-01-09</th>\n",
       "      <td>128.795578</td>\n",
       "      <td>130.149994</td>\n",
       "      <td>133.410004</td>\n",
       "      <td>129.889999</td>\n",
       "      <td>130.470001</td>\n",
       "      <td>70790800</td>\n",
       "    </tr>\n",
       "  </tbody>\n",
       "</table>\n",
       "</div>"
      ],
      "text/plain": [
       "Price        Adj Close       Close        High         Low        Open  \\\n",
       "Ticker            AAPL        AAPL        AAPL        AAPL        AAPL   \n",
       "Date                                                                     \n",
       "2023-01-03  123.768448  125.070000  130.899994  124.169998  130.279999   \n",
       "2023-01-04  125.045044  126.360001  128.660004  125.080002  126.889999   \n",
       "2023-01-05  123.718979  125.019997  127.769997  124.760002  127.129997   \n",
       "2023-01-06  128.271103  129.619995  130.289993  124.889999  126.010002   \n",
       "2023-01-09  128.795578  130.149994  133.410004  129.889999  130.470001   \n",
       "\n",
       "Price          Volume  \n",
       "Ticker           AAPL  \n",
       "Date                   \n",
       "2023-01-03  112117500  \n",
       "2023-01-04   89113600  \n",
       "2023-01-05   80962700  \n",
       "2023-01-06   87754700  \n",
       "2023-01-09   70790800  "
      ]
     },
     "execution_count": 7,
     "metadata": {},
     "output_type": "execute_result"
    }
   ],
   "source": [
    "aaplData.head()"
   ]
  },
  {
   "cell_type": "code",
   "execution_count": 23,
   "id": "7cce6d2b-d2f1-491c-a744-0796704c76c4",
   "metadata": {},
   "outputs": [],
   "source": [
    "######\n",
    "# To learn more, see multi-level columns in Pandas.\n",
    "# They are kinda cool and make sense for complex aggregated data.\n",
    "#\n",
    "# https://pandas.pydata.org/docs/user_guide/advanced.html\n",
    "#\n",
    "# https://stackoverflow.com/questions/63107594/how-to-deal-with-multi-level-column-names-downloaded-with-yfinance\n",
    "###\n",
    "df_aapl_close = aaplData['Close'].AAPL"
   ]
  },
  {
   "cell_type": "code",
   "execution_count": null,
   "id": "04112631",
   "metadata": {},
   "outputs": [],
   "source": []
  },
  {
   "cell_type": "code",
   "execution_count": 24,
   "id": "8434e56e-cc8e-469d-965f-078a1b85aba3",
   "metadata": {},
   "outputs": [],
   "source": [
    "df_nvidia_close= nvidiaData['Close'].NVDA"
   ]
  },
  {
   "cell_type": "code",
   "execution_count": null,
   "id": "3d54d9bf",
   "metadata": {},
   "outputs": [],
   "source": []
  },
  {
   "cell_type": "code",
   "execution_count": 25,
   "id": "176f6d37-d9fc-4dde-9a8c-75262a862309",
   "metadata": {
    "tags": []
   },
   "outputs": [
    {
     "data": {
      "text/plain": [
       "(217,)"
      ]
     },
     "execution_count": 25,
     "metadata": {},
     "output_type": "execute_result"
    }
   ],
   "source": [
    "df_aapl_close.shape"
   ]
  },
  {
   "cell_type": "code",
   "execution_count": 26,
   "id": "09293f9f-b631-4f46-b15c-28ea7409c52d",
   "metadata": {},
   "outputs": [
    {
     "data": {
      "text/plain": [
       "(217,)"
      ]
     },
     "execution_count": 26,
     "metadata": {},
     "output_type": "execute_result"
    }
   ],
   "source": [
    "df_nvidia_close.shape"
   ]
  },
  {
   "cell_type": "code",
   "execution_count": 27,
   "id": "8d69c083-5fad-40d3-a76d-74420370c14c",
   "metadata": {
    "scrolled": true
   },
   "outputs": [
    {
     "data": {
      "text/plain": [
       "count    217.000000\n",
       "mean     169.532489\n",
       "std       16.599124\n",
       "min      125.019997\n",
       "25%      157.830002\n",
       "50%      173.570007\n",
       "75%      180.089996\n",
       "max      196.449997\n",
       "Name: AAPL, dtype: float64"
      ]
     },
     "execution_count": 27,
     "metadata": {},
     "output_type": "execute_result"
    }
   ],
   "source": [
    "df_aapl_close.describe()"
   ]
  },
  {
   "cell_type": "code",
   "execution_count": 28,
   "id": "621ac110-8eda-47eb-9405-c9b448c2ac4e",
   "metadata": {},
   "outputs": [
    {
     "data": {
      "text/plain": [
       "count    217.000000\n",
       "mean      34.779470\n",
       "std       10.428269\n",
       "min       14.265000\n",
       "25%       26.240999\n",
       "50%       39.481998\n",
       "75%       43.939999\n",
       "max       49.355000\n",
       "Name: NVDA, dtype: float64"
      ]
     },
     "execution_count": 28,
     "metadata": {},
     "output_type": "execute_result"
    }
   ],
   "source": [
    "df_nvidia_close.describe()"
   ]
  },
  {
   "cell_type": "code",
   "execution_count": 29,
   "id": "14b09232-d9e7-41bd-972f-8458e285517c",
   "metadata": {},
   "outputs": [
    {
     "data": {
      "image/png": "[encoded data removed]",
      "text/plain": [
       "<Figure size 640x480 with 1 Axes>"
      ]
     },
     "metadata": {},
     "output_type": "display_data"
    }
   ],
   "source": [
    "#####\n",
    "# binCounts= number of examples in each bin\n",
    "# binEdges-  left edge of each bin\n",
    "# patches- rectangles used to plot histogram's bars\n",
    "##\n",
    "\n",
    "plt.figure(1)\n",
    "plt.title('Apple stock distribution')\n",
    "binCountsAAPL, binEdgesAAPL, patchesAAPL= plt.hist(df_aapl_close,NUM_BINS)"
   ]
  },
  {
   "cell_type": "code",
   "execution_count": 30,
   "id": "7af4946f-2ec9-43db-8821-990566b78254",
   "metadata": {},
   "outputs": [
    {
     "data": {
      "image/png": "[encoded data removed]",
      "text/plain": [
       "<Figure size 640x480 with 1 Axes>"
      ]
     },
     "metadata": {},
     "output_type": "display_data"
    }
   ],
   "source": [
    "#####\n",
    "# binCounts= number of examples in each bin\n",
    "# binEdges-  left edge of each bin\n",
    "# patches- rectangles used to plot histogram's bars\n",
    "##\n",
    "\n",
    "plt.figure(2)\n",
    "plt.title('NVIDIA stock distribution')\n",
    "binCountsNVDA, binEdgesNVDA, patchesNVDA= plt.hist(df_nvidia_close,NUM_BINS)"
   ]
  },
  {
   "cell_type": "code",
   "execution_count": 31,
   "id": "f944f007-16d7-4c87-aae0-67782b0ffb54",
   "metadata": {},
   "outputs": [],
   "source": [
    "#####\n",
    "# checkState\n",
    "#\n",
    "# Given array of bin edges and temperature value, translate\n",
    "# the temperature into a state as defined by bin boundaries.\n",
    "#\n",
    "# temp= the temp value\n",
    "# binEdges= temperature intervals defining states\n",
    "#\n",
    "# returns state value\n",
    "##\n",
    "\n",
    "def checkState(closingPrice, binEdges):\n",
    "    leftEdge= 0\n",
    "    rightEdge= 0\n",
    "    stateValue= -1\n",
    "    \n",
    "    for e in range(0,len(binEdges)-1):\n",
    "        leftEdge= binEdges[e]\n",
    "        rightEdge= binEdges[e + 1]\n",
    "        \n",
    "        if (e != len(binEdges)-2):\n",
    "            if (closingPrice >= leftEdge) & (closingPrice < rightEdge):\n",
    "                stateValue= e\n",
    "                break\n",
    "        else:\n",
    "            if (closingPrice >= leftEdge) & (closingPrice <= rightEdge):\n",
    "                stateValue= e\n",
    "                break\n",
    "                \n",
    "    return stateValue"
   ]
  },
  {
   "cell_type": "code",
   "execution_count": 32,
   "id": "ffab7a06-6dee-4047-bee2-3cd9c9be0ba3",
   "metadata": {
    "tags": []
   },
   "outputs": [
    {
     "data": {
      "text/plain": [
       "-1"
      ]
     },
     "execution_count": 32,
     "metadata": {},
     "output_type": "execute_result"
    }
   ],
   "source": [
    "#####\n",
    "# Quick tester for checkState\n",
    "##\n",
    "checkState(90, binEdgesAAPL)"
   ]
  },
  {
   "cell_type": "code",
   "execution_count": 33,
   "id": "aa5cea42",
   "metadata": {},
   "outputs": [
    {
     "data": {
      "text/plain": [
       "-1"
      ]
     },
     "execution_count": 33,
     "metadata": {},
     "output_type": "execute_result"
    }
   ],
   "source": [
    "checkState(250, binEdgesAAPL)"
   ]
  },
  {
   "cell_type": "code",
   "execution_count": 34,
   "id": "b7031c0e-2841-4a57-9748-ea3effaa13b7",
   "metadata": {
    "tags": []
   },
   "outputs": [],
   "source": [
    "def buildMarkovMatrix(trMatrix, df_data, binEdges):\n",
    "    sCurr= 0\n",
    "    sNext= 0\n",
    "    firstTime= True\n",
    "    DEBUG= True\n",
    "\n",
    "    for price in df_data:\n",
    "        print(f'buildMarkovMatrix:  price={price}')\n",
    "        if(firstTime):\n",
    "            sNext= checkState(price, binEdges)\n",
    "            sCurr= sNext\n",
    "            firstTime= False\n",
    "            if (DEBUG):\n",
    "                print(f'buildMarkovMatrix:  temp={price}:  (curr, next)= (S{sCurr},S{sNext})')\n",
    "            continue;\n",
    "        \n",
    "        sCurr= sNext\n",
    "        sNext= checkState(price, binEdges)\n",
    "    \n",
    "        if (DEBUG):\n",
    "            print(f'buildMarkovMatrix:  price= {price}:  (curr, next)= (S{sCurr},S{sNext})')\n",
    "\n",
    "        trMatrix[sCurr, sNext]= trMatrix[sCurr,sNext] + 1"
   ]
  },
  {
   "cell_type": "code",
   "execution_count": 35,
   "id": "0317a9ad-84ff-45d0-967c-528b588ac894",
   "metadata": {},
   "outputs": [
    {
     "data": {
      "text/plain": [
       "3"
      ]
     },
     "execution_count": 35,
     "metadata": {},
     "output_type": "execute_result"
    }
   ],
   "source": [
    "######\n",
    "#  set the number of states \n",
    "###\n",
    "numStates= len(binEdgesAAPL)-1\n",
    "numStates"
   ]
  },
  {
   "cell_type": "code",
   "execution_count": 36,
   "id": "dece2bdc-5fdf-4460-a752-b8078c36398d",
   "metadata": {},
   "outputs": [],
   "source": [
    "#####\n",
    "# Initialize Markov Matrix to zeros\n",
    "###\n",
    "trMatrixAAPL= np.zeros((numStates,numStates),dtype=np.float64)\n",
    "trMatrixNVDA= np.zeros((numStates,numStates),dtype=np.float64)"
   ]
  },
  {
   "cell_type": "code",
   "execution_count": 37,
   "id": "c2338254-4cdd-4f2b-862a-b8b3a37c2196",
   "metadata": {},
   "outputs": [
    {
     "name": "stdout",
     "output_type": "stream",
     "text": [
      "buildMarkovMatrix:  price=125.06999969482422\n",
      "buildMarkovMatrix:  temp=125.06999969482422:  (curr, next)= (S0,S0)\n",
      "buildMarkovMatrix:  price=126.36000061035156\n",
      "buildMarkovMatrix:  price= 126.36000061035156:  (curr, next)= (S0,S0)\n",
      "buildMarkovMatrix:  price=125.0199966430664\n",
      "buildMarkovMatrix:  price= 125.0199966430664:  (curr, next)= (S0,S0)\n",
      "buildMarkovMatrix:  price=129.6199951171875\n",
      "buildMarkovMatrix:  price= 129.6199951171875:  (curr, next)= (S0,S0)\n",
      "buildMarkovMatrix:  price=130.14999389648438\n",
      "buildMarkovMatrix:  price= 130.14999389648438:  (curr, next)= (S0,S0)\n",
      "buildMarkovMatrix:  price=130.72999572753906\n",
      "buildMarkovMatrix:  price= 130.72999572753906:  (curr, next)= (S0,S0)\n",
      "buildMarkovMatrix:  price=133.49000549316406\n",
      "buildMarkovMatrix:  price= 133.49000549316406:  (curr, next)= (S0,S0)\n",
      "buildMarkovMatrix:  price=133.41000366210938\n",
      "buildMarkovMatrix:  price= 133.41000366210938:  (curr, next)= (S0,S0)\n",
      "buildMarkovMatrix:  price=134.75999450683594\n",
      "buildMarkovMatrix:  price= 134.75999450683594:  (curr, next)= (S0,S0)\n",
      "buildMarkovMatrix:  price=135.94000244140625\n",
      "buildMarkovMatrix:  price= 135.94000244140625:  (curr, next)= (S0,S0)\n",
      "buildMarkovMatrix:  price=135.2100067138672\n",
      "buildMarkovMatrix:  price= 135.2100067138672:  (curr, next)= (S0,S0)\n",
      "buildMarkovMatrix:  price=135.27000427246094\n",
      "buildMarkovMatrix:  price= 135.27000427246094:  (curr, next)= (S0,S0)\n",
      "buildMarkovMatrix:  price=137.8699951171875\n",
      "buildMarkovMatrix:  price= 137.8699951171875:  (curr, next)= (S0,S0)\n",
      "buildMarkovMatrix:  price=141.11000061035156\n",
      "buildMarkovMatrix:  price= 141.11000061035156:  (curr, next)= (S0,S0)\n",
      "buildMarkovMatrix:  price=142.52999877929688\n",
      "buildMarkovMatrix:  price= 142.52999877929688:  (curr, next)= (S0,S0)\n",
      "buildMarkovMatrix:  price=141.86000061035156\n",
      "buildMarkovMatrix:  price= 141.86000061035156:  (curr, next)= (S0,S0)\n",
      "buildMarkovMatrix:  price=143.9600067138672\n",
      "buildMarkovMatrix:  price= 143.9600067138672:  (curr, next)= (S0,S0)\n",
      "buildMarkovMatrix:  price=145.92999267578125\n",
      "buildMarkovMatrix:  price= 145.92999267578125:  (curr, next)= (S0,S0)\n",
      "buildMarkovMatrix:  price=143.0\n",
      "buildMarkovMatrix:  price= 143.0:  (curr, next)= (S0,S0)\n",
      "buildMarkovMatrix:  price=144.2899932861328\n",
      "buildMarkovMatrix:  price= 144.2899932861328:  (curr, next)= (S0,S0)\n",
      "buildMarkovMatrix:  price=145.42999267578125\n",
      "buildMarkovMatrix:  price= 145.42999267578125:  (curr, next)= (S0,S0)\n",
      "buildMarkovMatrix:  price=150.82000732421875\n",
      "buildMarkovMatrix:  price= 150.82000732421875:  (curr, next)= (S0,S1)\n",
      "buildMarkovMatrix:  price=154.5\n",
      "buildMarkovMatrix:  price= 154.5:  (curr, next)= (S1,S1)\n",
      "buildMarkovMatrix:  price=151.72999572753906\n",
      "buildMarkovMatrix:  price= 151.72999572753906:  (curr, next)= (S1,S1)\n",
      "buildMarkovMatrix:  price=154.64999389648438\n",
      "buildMarkovMatrix:  price= 154.64999389648438:  (curr, next)= (S1,S1)\n",
      "buildMarkovMatrix:  price=151.9199981689453\n",
      "buildMarkovMatrix:  price= 151.9199981689453:  (curr, next)= (S1,S1)\n",
      "buildMarkovMatrix:  price=150.8699951171875\n",
      "buildMarkovMatrix:  price= 150.8699951171875:  (curr, next)= (S1,S1)\n",
      "buildMarkovMatrix:  price=151.00999450683594\n",
      "buildMarkovMatrix:  price= 151.00999450683594:  (curr, next)= (S1,S1)\n",
      "buildMarkovMatrix:  price=153.85000610351562\n",
      "buildMarkovMatrix:  price= 153.85000610351562:  (curr, next)= (S1,S1)\n",
      "buildMarkovMatrix:  price=153.1999969482422\n",
      "buildMarkovMatrix:  price= 153.1999969482422:  (curr, next)= (S1,S1)\n",
      "buildMarkovMatrix:  price=155.3300018310547\n",
      "buildMarkovMatrix:  price= 155.3300018310547:  (curr, next)= (S1,S1)\n",
      "buildMarkovMatrix:  price=153.7100067138672\n",
      "buildMarkovMatrix:  price= 153.7100067138672:  (curr, next)= (S1,S1)\n",
      "buildMarkovMatrix:  price=152.5500030517578\n",
      "buildMarkovMatrix:  price= 152.5500030517578:  (curr, next)= (S1,S1)\n",
      "buildMarkovMatrix:  price=148.47999572753906\n",
      "buildMarkovMatrix:  price= 148.47999572753906:  (curr, next)= (S1,S0)\n",
      "buildMarkovMatrix:  price=148.91000366210938\n",
      "buildMarkovMatrix:  price= 148.91000366210938:  (curr, next)= (S0,S1)\n",
      "buildMarkovMatrix:  price=149.39999389648438\n",
      "buildMarkovMatrix:  price= 149.39999389648438:  (curr, next)= (S1,S1)\n",
      "buildMarkovMatrix:  price=146.7100067138672\n",
      "buildMarkovMatrix:  price= 146.7100067138672:  (curr, next)= (S1,S0)\n",
      "buildMarkovMatrix:  price=147.9199981689453\n",
      "buildMarkovMatrix:  price= 147.9199981689453:  (curr, next)= (S0,S0)\n",
      "buildMarkovMatrix:  price=147.41000366210938\n",
      "buildMarkovMatrix:  price= 147.41000366210938:  (curr, next)= (S0,S0)\n",
      "buildMarkovMatrix:  price=145.30999755859375\n",
      "buildMarkovMatrix:  price= 145.30999755859375:  (curr, next)= (S0,S0)\n",
      "buildMarkovMatrix:  price=145.91000366210938\n",
      "buildMarkovMatrix:  price= 145.91000366210938:  (curr, next)= (S0,S0)\n",
      "buildMarkovMatrix:  price=151.02999877929688\n",
      "buildMarkovMatrix:  price= 151.02999877929688:  (curr, next)= (S0,S1)\n",
      "buildMarkovMatrix:  price=153.8300018310547\n",
      "buildMarkovMatrix:  price= 153.8300018310547:  (curr, next)= (S1,S1)\n",
      "buildMarkovMatrix:  price=151.60000610351562\n",
      "buildMarkovMatrix:  price= 151.60000610351562:  (curr, next)= (S1,S1)\n",
      "buildMarkovMatrix:  price=152.8699951171875\n",
      "buildMarkovMatrix:  price= 152.8699951171875:  (curr, next)= (S1,S1)\n",
      "buildMarkovMatrix:  price=150.58999633789062\n",
      "buildMarkovMatrix:  price= 150.58999633789062:  (curr, next)= (S1,S1)\n",
      "buildMarkovMatrix:  price=148.5\n",
      "buildMarkovMatrix:  price= 148.5:  (curr, next)= (S1,S0)\n",
      "buildMarkovMatrix:  price=150.47000122070312\n",
      "buildMarkovMatrix:  price= 150.47000122070312:  (curr, next)= (S0,S1)\n",
      "buildMarkovMatrix:  price=152.58999633789062\n",
      "buildMarkovMatrix:  price= 152.58999633789062:  (curr, next)= (S1,S1)\n",
      "buildMarkovMatrix:  price=152.99000549316406\n",
      "buildMarkovMatrix:  price= 152.99000549316406:  (curr, next)= (S1,S1)\n",
      "buildMarkovMatrix:  price=155.85000610351562\n",
      "buildMarkovMatrix:  price= 155.85000610351562:  (curr, next)= (S1,S1)\n",
      "buildMarkovMatrix:  price=155.0\n",
      "buildMarkovMatrix:  price= 155.0:  (curr, next)= (S1,S1)\n",
      "buildMarkovMatrix:  price=157.39999389648438\n",
      "buildMarkovMatrix:  price= 157.39999389648438:  (curr, next)= (S1,S1)\n",
      "buildMarkovMatrix:  price=159.27999877929688\n",
      "buildMarkovMatrix:  price= 159.27999877929688:  (curr, next)= (S1,S1)\n",
      "buildMarkovMatrix:  price=157.8300018310547\n",
      "buildMarkovMatrix:  price= 157.8300018310547:  (curr, next)= (S1,S1)\n",
      "buildMarkovMatrix:  price=158.92999267578125\n",
      "buildMarkovMatrix:  price= 158.92999267578125:  (curr, next)= (S1,S1)\n",
      "buildMarkovMatrix:  price=160.25\n",
      "buildMarkovMatrix:  price= 160.25:  (curr, next)= (S1,S1)\n",
      "buildMarkovMatrix:  price=158.27999877929688\n",
      "buildMarkovMatrix:  price= 158.27999877929688:  (curr, next)= (S1,S1)\n",
      "buildMarkovMatrix:  price=157.64999389648438\n",
      "buildMarkovMatrix:  price= 157.64999389648438:  (curr, next)= (S1,S1)\n",
      "buildMarkovMatrix:  price=160.77000427246094\n",
      "buildMarkovMatrix:  price= 160.77000427246094:  (curr, next)= (S1,S1)\n",
      "buildMarkovMatrix:  price=162.36000061035156\n",
      "buildMarkovMatrix:  price= 162.36000061035156:  (curr, next)= (S1,S1)\n",
      "buildMarkovMatrix:  price=164.89999389648438\n",
      "buildMarkovMatrix:  price= 164.89999389648438:  (curr, next)= (S1,S1)\n",
      "buildMarkovMatrix:  price=166.1699981689453\n",
      "buildMarkovMatrix:  price= 166.1699981689453:  (curr, next)= (S1,S1)\n",
      "buildMarkovMatrix:  price=165.6300048828125\n",
      "buildMarkovMatrix:  price= 165.6300048828125:  (curr, next)= (S1,S1)\n",
      "buildMarkovMatrix:  price=163.75999450683594\n",
      "buildMarkovMatrix:  price= 163.75999450683594:  (curr, next)= (S1,S1)\n",
      "buildMarkovMatrix:  price=164.66000366210938\n",
      "buildMarkovMatrix:  price= 164.66000366210938:  (curr, next)= (S1,S1)\n",
      "buildMarkovMatrix:  price=162.02999877929688\n",
      "buildMarkovMatrix:  price= 162.02999877929688:  (curr, next)= (S1,S1)\n",
      "buildMarkovMatrix:  price=160.8000030517578\n",
      "buildMarkovMatrix:  price= 160.8000030517578:  (curr, next)= (S1,S1)\n",
      "buildMarkovMatrix:  price=160.10000610351562\n",
      "buildMarkovMatrix:  price= 160.10000610351562:  (curr, next)= (S1,S1)\n",
      "buildMarkovMatrix:  price=165.55999755859375\n",
      "buildMarkovMatrix:  price= 165.55999755859375:  (curr, next)= (S1,S1)\n",
      "buildMarkovMatrix:  price=165.2100067138672\n",
      "buildMarkovMatrix:  price= 165.2100067138672:  (curr, next)= (S1,S1)\n",
      "buildMarkovMatrix:  price=165.22999572753906\n",
      "buildMarkovMatrix:  price= 165.22999572753906:  (curr, next)= (S1,S1)\n",
      "buildMarkovMatrix:  price=166.47000122070312\n",
      "buildMarkovMatrix:  price= 166.47000122070312:  (curr, next)= (S1,S1)\n",
      "buildMarkovMatrix:  price=167.6300048828125\n",
      "buildMarkovMatrix:  price= 167.6300048828125:  (curr, next)= (S1,S1)\n",
      "buildMarkovMatrix:  price=166.64999389648438\n",
      "buildMarkovMatrix:  price= 166.64999389648438:  (curr, next)= (S1,S1)\n",
      "buildMarkovMatrix:  price=165.02000427246094\n",
      "buildMarkovMatrix:  price= 165.02000427246094:  (curr, next)= (S1,S1)\n",
      "buildMarkovMatrix:  price=165.3300018310547\n",
      "buildMarkovMatrix:  price= 165.3300018310547:  (curr, next)= (S1,S1)\n",
      "buildMarkovMatrix:  price=163.77000427246094\n",
      "buildMarkovMatrix:  price= 163.77000427246094:  (curr, next)= (S1,S1)\n",
      "buildMarkovMatrix:  price=163.75999450683594\n",
      "buildMarkovMatrix:  price= 163.75999450683594:  (curr, next)= (S1,S1)\n",
      "buildMarkovMatrix:  price=168.41000366210938\n",
      "buildMarkovMatrix:  price= 168.41000366210938:  (curr, next)= (S1,S1)\n",
      "buildMarkovMatrix:  price=169.67999267578125\n",
      "buildMarkovMatrix:  price= 169.67999267578125:  (curr, next)= (S1,S1)\n",
      "buildMarkovMatrix:  price=169.58999633789062\n",
      "buildMarkovMatrix:  price= 169.58999633789062:  (curr, next)= (S1,S1)\n",
      "buildMarkovMatrix:  price=168.5399932861328\n",
      "buildMarkovMatrix:  price= 168.5399932861328:  (curr, next)= (S1,S1)\n",
      "buildMarkovMatrix:  price=167.4499969482422\n",
      "buildMarkovMatrix:  price= 167.4499969482422:  (curr, next)= (S1,S1)\n",
      "buildMarkovMatrix:  price=165.7899932861328\n",
      "buildMarkovMatrix:  price= 165.7899932861328:  (curr, next)= (S1,S1)\n",
      "buildMarkovMatrix:  price=173.57000732421875\n",
      "buildMarkovMatrix:  price= 173.57000732421875:  (curr, next)= (S1,S2)\n",
      "buildMarkovMatrix:  price=173.5\n",
      "buildMarkovMatrix:  price= 173.5:  (curr, next)= (S2,S2)\n",
      "buildMarkovMatrix:  price=171.77000427246094\n",
      "buildMarkovMatrix:  price= 171.77000427246094:  (curr, next)= (S2,S1)\n",
      "buildMarkovMatrix:  price=173.55999755859375\n",
      "buildMarkovMatrix:  price= 173.55999755859375:  (curr, next)= (S1,S2)\n",
      "buildMarkovMatrix:  price=173.75\n",
      "buildMarkovMatrix:  price= 173.75:  (curr, next)= (S2,S2)\n",
      "buildMarkovMatrix:  price=172.57000732421875\n",
      "buildMarkovMatrix:  price= 172.57000732421875:  (curr, next)= (S2,S1)\n",
      "buildMarkovMatrix:  price=172.07000732421875\n",
      "buildMarkovMatrix:  price= 172.07000732421875:  (curr, next)= (S1,S1)\n",
      "buildMarkovMatrix:  price=172.07000732421875\n",
      "buildMarkovMatrix:  price= 172.07000732421875:  (curr, next)= (S1,S1)\n",
      "buildMarkovMatrix:  price=172.69000244140625\n",
      "buildMarkovMatrix:  price= 172.69000244140625:  (curr, next)= (S1,S2)\n",
      "buildMarkovMatrix:  price=175.0500030517578\n",
      "buildMarkovMatrix:  price= 175.0500030517578:  (curr, next)= (S2,S2)\n",
      "buildMarkovMatrix:  price=175.16000366210938\n",
      "buildMarkovMatrix:  price= 175.16000366210938:  (curr, next)= (S2,S2)\n",
      "buildMarkovMatrix:  price=174.1999969482422\n",
      "buildMarkovMatrix:  price= 174.1999969482422:  (curr, next)= (S2,S2)\n",
      "buildMarkovMatrix:  price=171.55999755859375\n",
      "buildMarkovMatrix:  price= 171.55999755859375:  (curr, next)= (S2,S1)\n",
      "buildMarkovMatrix:  price=171.83999633789062\n",
      "buildMarkovMatrix:  price= 171.83999633789062:  (curr, next)= (S1,S1)\n",
      "buildMarkovMatrix:  price=172.99000549316406\n",
      "buildMarkovMatrix:  price= 172.99000549316406:  (curr, next)= (S1,S2)\n",
      "buildMarkovMatrix:  price=175.42999267578125\n",
      "buildMarkovMatrix:  price= 175.42999267578125:  (curr, next)= (S2,S2)\n",
      "buildMarkovMatrix:  price=177.3000030517578\n",
      "buildMarkovMatrix:  price= 177.3000030517578:  (curr, next)= (S2,S2)\n",
      "buildMarkovMatrix:  price=177.25\n",
      "buildMarkovMatrix:  price= 177.25:  (curr, next)= (S2,S2)\n",
      "buildMarkovMatrix:  price=180.08999633789062\n",
      "buildMarkovMatrix:  price= 180.08999633789062:  (curr, next)= (S2,S2)\n",
      "buildMarkovMatrix:  price=180.9499969482422\n",
      "buildMarkovMatrix:  price= 180.9499969482422:  (curr, next)= (S2,S2)\n",
      "buildMarkovMatrix:  price=179.5800018310547\n",
      "buildMarkovMatrix:  price= 179.5800018310547:  (curr, next)= (S2,S2)\n",
      "buildMarkovMatrix:  price=179.2100067138672\n",
      "buildMarkovMatrix:  price= 179.2100067138672:  (curr, next)= (S2,S2)\n",
      "buildMarkovMatrix:  price=177.82000732421875\n",
      "buildMarkovMatrix:  price= 177.82000732421875:  (curr, next)= (S2,S2)\n",
      "buildMarkovMatrix:  price=180.57000732421875\n",
      "buildMarkovMatrix:  price= 180.57000732421875:  (curr, next)= (S2,S2)\n",
      "buildMarkovMatrix:  price=180.9600067138672\n",
      "buildMarkovMatrix:  price= 180.9600067138672:  (curr, next)= (S2,S2)\n",
      "buildMarkovMatrix:  price=183.7899932861328\n",
      "buildMarkovMatrix:  price= 183.7899932861328:  (curr, next)= (S2,S2)\n",
      "buildMarkovMatrix:  price=183.30999755859375\n",
      "buildMarkovMatrix:  price= 183.30999755859375:  (curr, next)= (S2,S2)\n",
      "buildMarkovMatrix:  price=183.9499969482422\n",
      "buildMarkovMatrix:  price= 183.9499969482422:  (curr, next)= (S2,S2)\n",
      "buildMarkovMatrix:  price=186.00999450683594\n",
      "buildMarkovMatrix:  price= 186.00999450683594:  (curr, next)= (S2,S2)\n",
      "buildMarkovMatrix:  price=184.9199981689453\n",
      "buildMarkovMatrix:  price= 184.9199981689453:  (curr, next)= (S2,S2)\n",
      "buildMarkovMatrix:  price=185.00999450683594\n",
      "buildMarkovMatrix:  price= 185.00999450683594:  (curr, next)= (S2,S2)\n",
      "buildMarkovMatrix:  price=183.9600067138672\n",
      "buildMarkovMatrix:  price= 183.9600067138672:  (curr, next)= (S2,S2)\n",
      "buildMarkovMatrix:  price=187.0\n",
      "buildMarkovMatrix:  price= 187.0:  (curr, next)= (S2,S2)\n",
      "buildMarkovMatrix:  price=186.67999267578125\n",
      "buildMarkovMatrix:  price= 186.67999267578125:  (curr, next)= (S2,S2)\n",
      "buildMarkovMatrix:  price=185.27000427246094\n",
      "buildMarkovMatrix:  price= 185.27000427246094:  (curr, next)= (S2,S2)\n",
      "buildMarkovMatrix:  price=188.05999755859375\n",
      "buildMarkovMatrix:  price= 188.05999755859375:  (curr, next)= (S2,S2)\n",
      "buildMarkovMatrix:  price=189.25\n",
      "buildMarkovMatrix:  price= 189.25:  (curr, next)= (S2,S2)\n",
      "buildMarkovMatrix:  price=189.58999633789062\n",
      "buildMarkovMatrix:  price= 189.58999633789062:  (curr, next)= (S2,S2)\n",
      "buildMarkovMatrix:  price=193.97000122070312\n",
      "buildMarkovMatrix:  price= 193.97000122070312:  (curr, next)= (S2,S2)\n",
      "buildMarkovMatrix:  price=192.4600067138672\n",
      "buildMarkovMatrix:  price= 192.4600067138672:  (curr, next)= (S2,S2)\n",
      "buildMarkovMatrix:  price=191.3300018310547\n",
      "buildMarkovMatrix:  price= 191.3300018310547:  (curr, next)= (S2,S2)\n",
      "buildMarkovMatrix:  price=191.80999755859375\n",
      "buildMarkovMatrix:  price= 191.80999755859375:  (curr, next)= (S2,S2)\n",
      "buildMarkovMatrix:  price=190.67999267578125\n",
      "buildMarkovMatrix:  price= 190.67999267578125:  (curr, next)= (S2,S2)\n",
      "buildMarkovMatrix:  price=188.61000061035156\n",
      "buildMarkovMatrix:  price= 188.61000061035156:  (curr, next)= (S2,S2)\n",
      "buildMarkovMatrix:  price=188.0800018310547\n",
      "buildMarkovMatrix:  price= 188.0800018310547:  (curr, next)= (S2,S2)\n",
      "buildMarkovMatrix:  price=189.77000427246094\n",
      "buildMarkovMatrix:  price= 189.77000427246094:  (curr, next)= (S2,S2)\n",
      "buildMarkovMatrix:  price=190.5399932861328\n",
      "buildMarkovMatrix:  price= 190.5399932861328:  (curr, next)= (S2,S2)\n",
      "buildMarkovMatrix:  price=190.69000244140625\n",
      "buildMarkovMatrix:  price= 190.69000244140625:  (curr, next)= (S2,S2)\n",
      "buildMarkovMatrix:  price=193.99000549316406\n",
      "buildMarkovMatrix:  price= 193.99000549316406:  (curr, next)= (S2,S2)\n",
      "buildMarkovMatrix:  price=193.72999572753906\n",
      "buildMarkovMatrix:  price= 193.72999572753906:  (curr, next)= (S2,S2)\n",
      "buildMarkovMatrix:  price=195.10000610351562\n",
      "buildMarkovMatrix:  price= 195.10000610351562:  (curr, next)= (S2,S2)\n",
      "buildMarkovMatrix:  price=193.1300048828125\n",
      "buildMarkovMatrix:  price= 193.1300048828125:  (curr, next)= (S2,S2)\n",
      "buildMarkovMatrix:  price=191.94000244140625\n",
      "buildMarkovMatrix:  price= 191.94000244140625:  (curr, next)= (S2,S2)\n",
      "buildMarkovMatrix:  price=192.75\n",
      "buildMarkovMatrix:  price= 192.75:  (curr, next)= (S2,S2)\n",
      "buildMarkovMatrix:  price=193.6199951171875\n",
      "buildMarkovMatrix:  price= 193.6199951171875:  (curr, next)= (S2,S2)\n",
      "buildMarkovMatrix:  price=194.5\n",
      "buildMarkovMatrix:  price= 194.5:  (curr, next)= (S2,S2)\n",
      "buildMarkovMatrix:  price=193.22000122070312\n",
      "buildMarkovMatrix:  price= 193.22000122070312:  (curr, next)= (S2,S2)\n",
      "buildMarkovMatrix:  price=195.8300018310547\n",
      "buildMarkovMatrix:  price= 195.8300018310547:  (curr, next)= (S2,S2)\n",
      "buildMarkovMatrix:  price=196.4499969482422\n",
      "buildMarkovMatrix:  price= 196.4499969482422:  (curr, next)= (S2,S2)\n",
      "buildMarkovMatrix:  price=195.61000061035156\n",
      "buildMarkovMatrix:  price= 195.61000061035156:  (curr, next)= (S2,S2)\n",
      "buildMarkovMatrix:  price=192.5800018310547\n",
      "buildMarkovMatrix:  price= 192.5800018310547:  (curr, next)= (S2,S2)\n",
      "buildMarkovMatrix:  price=191.1699981689453\n",
      "buildMarkovMatrix:  price= 191.1699981689453:  (curr, next)= (S2,S2)\n",
      "buildMarkovMatrix:  price=181.99000549316406\n",
      "buildMarkovMatrix:  price= 181.99000549316406:  (curr, next)= (S2,S2)\n",
      "buildMarkovMatrix:  price=178.85000610351562\n",
      "buildMarkovMatrix:  price= 178.85000610351562:  (curr, next)= (S2,S2)\n",
      "buildMarkovMatrix:  price=179.8000030517578\n",
      "buildMarkovMatrix:  price= 179.8000030517578:  (curr, next)= (S2,S2)\n",
      "buildMarkovMatrix:  price=178.19000244140625\n",
      "buildMarkovMatrix:  price= 178.19000244140625:  (curr, next)= (S2,S2)\n",
      "buildMarkovMatrix:  price=177.97000122070312\n",
      "buildMarkovMatrix:  price= 177.97000122070312:  (curr, next)= (S2,S2)\n",
      "buildMarkovMatrix:  price=177.7899932861328\n",
      "buildMarkovMatrix:  price= 177.7899932861328:  (curr, next)= (S2,S2)\n",
      "buildMarkovMatrix:  price=179.4600067138672\n",
      "buildMarkovMatrix:  price= 179.4600067138672:  (curr, next)= (S2,S2)\n",
      "buildMarkovMatrix:  price=177.4499969482422\n",
      "buildMarkovMatrix:  price= 177.4499969482422:  (curr, next)= (S2,S2)\n",
      "buildMarkovMatrix:  price=176.57000732421875\n",
      "buildMarkovMatrix:  price= 176.57000732421875:  (curr, next)= (S2,S2)\n",
      "buildMarkovMatrix:  price=174.0\n",
      "buildMarkovMatrix:  price= 174.0:  (curr, next)= (S2,S2)\n",
      "buildMarkovMatrix:  price=174.49000549316406\n",
      "buildMarkovMatrix:  price= 174.49000549316406:  (curr, next)= (S2,S2)\n",
      "buildMarkovMatrix:  price=175.83999633789062\n",
      "buildMarkovMatrix:  price= 175.83999633789062:  (curr, next)= (S2,S2)\n",
      "buildMarkovMatrix:  price=177.22999572753906\n",
      "buildMarkovMatrix:  price= 177.22999572753906:  (curr, next)= (S2,S2)\n",
      "buildMarkovMatrix:  price=181.1199951171875\n",
      "buildMarkovMatrix:  price= 181.1199951171875:  (curr, next)= (S2,S2)\n",
      "buildMarkovMatrix:  price=176.3800048828125\n",
      "buildMarkovMatrix:  price= 176.3800048828125:  (curr, next)= (S2,S2)\n",
      "buildMarkovMatrix:  price=178.61000061035156\n",
      "buildMarkovMatrix:  price= 178.61000061035156:  (curr, next)= (S2,S2)\n",
      "buildMarkovMatrix:  price=180.19000244140625\n",
      "buildMarkovMatrix:  price= 180.19000244140625:  (curr, next)= (S2,S2)\n",
      "buildMarkovMatrix:  price=184.1199951171875\n",
      "buildMarkovMatrix:  price= 184.1199951171875:  (curr, next)= (S2,S2)\n",
      "buildMarkovMatrix:  price=187.64999389648438\n",
      "buildMarkovMatrix:  price= 187.64999389648438:  (curr, next)= (S2,S2)\n",
      "buildMarkovMatrix:  price=187.8699951171875\n",
      "buildMarkovMatrix:  price= 187.8699951171875:  (curr, next)= (S2,S2)\n",
      "buildMarkovMatrix:  price=189.4600067138672\n",
      "buildMarkovMatrix:  price= 189.4600067138672:  (curr, next)= (S2,S2)\n",
      "buildMarkovMatrix:  price=189.6999969482422\n",
      "buildMarkovMatrix:  price= 189.6999969482422:  (curr, next)= (S2,S2)\n",
      "buildMarkovMatrix:  price=182.91000366210938\n",
      "buildMarkovMatrix:  price= 182.91000366210938:  (curr, next)= (S2,S2)\n",
      "buildMarkovMatrix:  price=177.55999755859375\n",
      "buildMarkovMatrix:  price= 177.55999755859375:  (curr, next)= (S2,S2)\n",
      "buildMarkovMatrix:  price=178.17999267578125\n",
      "buildMarkovMatrix:  price= 178.17999267578125:  (curr, next)= (S2,S2)\n",
      "buildMarkovMatrix:  price=179.36000061035156\n",
      "buildMarkovMatrix:  price= 179.36000061035156:  (curr, next)= (S2,S2)\n",
      "buildMarkovMatrix:  price=176.3000030517578\n",
      "buildMarkovMatrix:  price= 176.3000030517578:  (curr, next)= (S2,S2)\n",
      "buildMarkovMatrix:  price=174.2100067138672\n",
      "buildMarkovMatrix:  price= 174.2100067138672:  (curr, next)= (S2,S2)\n",
      "buildMarkovMatrix:  price=175.74000549316406\n",
      "buildMarkovMatrix:  price= 175.74000549316406:  (curr, next)= (S2,S2)\n",
      "buildMarkovMatrix:  price=175.00999450683594\n",
      "buildMarkovMatrix:  price= 175.00999450683594:  (curr, next)= (S2,S2)\n",
      "buildMarkovMatrix:  price=177.97000122070312\n",
      "buildMarkovMatrix:  price= 177.97000122070312:  (curr, next)= (S2,S2)\n",
      "buildMarkovMatrix:  price=179.07000732421875\n",
      "buildMarkovMatrix:  price= 179.07000732421875:  (curr, next)= (S2,S2)\n",
      "buildMarkovMatrix:  price=175.49000549316406\n",
      "buildMarkovMatrix:  price= 175.49000549316406:  (curr, next)= (S2,S2)\n",
      "buildMarkovMatrix:  price=173.92999267578125\n",
      "buildMarkovMatrix:  price= 173.92999267578125:  (curr, next)= (S2,S2)\n",
      "buildMarkovMatrix:  price=174.7899932861328\n",
      "buildMarkovMatrix:  price= 174.7899932861328:  (curr, next)= (S2,S2)\n",
      "buildMarkovMatrix:  price=176.0800018310547\n",
      "buildMarkovMatrix:  price= 176.0800018310547:  (curr, next)= (S2,S2)\n",
      "buildMarkovMatrix:  price=171.9600067138672\n",
      "buildMarkovMatrix:  price= 171.9600067138672:  (curr, next)= (S2,S1)\n",
      "buildMarkovMatrix:  price=170.42999267578125\n",
      "buildMarkovMatrix:  price= 170.42999267578125:  (curr, next)= (S1,S1)\n",
      "buildMarkovMatrix:  price=170.69000244140625\n",
      "buildMarkovMatrix:  price= 170.69000244140625:  (curr, next)= (S1,S1)\n",
      "buildMarkovMatrix:  price=171.2100067138672\n",
      "buildMarkovMatrix:  price= 171.2100067138672:  (curr, next)= (S1,S1)\n",
      "buildMarkovMatrix:  price=173.75\n",
      "buildMarkovMatrix:  price= 173.75:  (curr, next)= (S1,S2)\n",
      "buildMarkovMatrix:  price=172.39999389648438\n",
      "buildMarkovMatrix:  price= 172.39999389648438:  (curr, next)= (S2,S1)\n",
      "buildMarkovMatrix:  price=173.66000366210938\n",
      "buildMarkovMatrix:  price= 173.66000366210938:  (curr, next)= (S1,S2)\n",
      "buildMarkovMatrix:  price=174.91000366210938\n",
      "buildMarkovMatrix:  price= 174.91000366210938:  (curr, next)= (S2,S2)\n",
      "buildMarkovMatrix:  price=177.49000549316406\n",
      "buildMarkovMatrix:  price= 177.49000549316406:  (curr, next)= (S2,S2)\n",
      "buildMarkovMatrix:  price=178.99000549316406\n",
      "buildMarkovMatrix:  price= 178.99000549316406:  (curr, next)= (S2,S2)\n",
      "buildMarkovMatrix:  price=178.38999938964844\n",
      "buildMarkovMatrix:  price= 178.38999938964844:  (curr, next)= (S2,S2)\n",
      "buildMarkovMatrix:  price=179.8000030517578\n",
      "buildMarkovMatrix:  price= 179.8000030517578:  (curr, next)= (S2,S2)\n",
      "buildMarkovMatrix:  price=180.7100067138672\n",
      "buildMarkovMatrix:  price= 180.7100067138672:  (curr, next)= (S2,S2)\n",
      "buildMarkovMatrix:  price=178.85000610351562\n",
      "buildMarkovMatrix:  price= 178.85000610351562:  (curr, next)= (S2,S2)\n",
      "buildMarkovMatrix:  price=178.72000122070312\n",
      "buildMarkovMatrix:  price= 178.72000122070312:  (curr, next)= (S2,S2)\n",
      "buildMarkovMatrix:  price=177.14999389648438\n",
      "buildMarkovMatrix:  price= 177.14999389648438:  (curr, next)= (S2,S2)\n",
      "buildMarkovMatrix:  price=175.83999633789062\n",
      "buildMarkovMatrix:  price= 175.83999633789062:  (curr, next)= (S2,S2)\n",
      "buildMarkovMatrix:  price=175.4600067138672\n",
      "buildMarkovMatrix:  price= 175.4600067138672:  (curr, next)= (S2,S2)\n",
      "buildMarkovMatrix:  price=172.8800048828125\n",
      "buildMarkovMatrix:  price= 172.8800048828125:  (curr, next)= (S2,S2)\n",
      "buildMarkovMatrix:  price=173.0\n",
      "buildMarkovMatrix:  price= 173.0:  (curr, next)= (S2,S2)\n",
      "buildMarkovMatrix:  price=173.44000244140625\n",
      "buildMarkovMatrix:  price= 173.44000244140625:  (curr, next)= (S2,S2)\n",
      "buildMarkovMatrix:  price=171.10000610351562\n",
      "buildMarkovMatrix:  price= 171.10000610351562:  (curr, next)= (S2,S1)\n",
      "buildMarkovMatrix:  price=166.88999938964844\n",
      "buildMarkovMatrix:  price= 166.88999938964844:  (curr, next)= (S1,S1)\n",
      "buildMarkovMatrix:  price=168.22000122070312\n",
      "buildMarkovMatrix:  price= 168.22000122070312:  (curr, next)= (S1,S1)\n",
      "buildMarkovMatrix:  price=170.2899932861328\n",
      "buildMarkovMatrix:  price= 170.2899932861328:  (curr, next)= (S1,S1)\n",
      "buildMarkovMatrix:  price=170.77000427246094\n",
      "buildMarkovMatrix:  price= 170.77000427246094:  (curr, next)= (S1,S1)\n",
      "buildMarkovMatrix:  price=173.97000122070312\n",
      "buildMarkovMatrix:  price= 173.97000122070312:  (curr, next)= (S1,S2)\n",
      "buildMarkovMatrix:  price=177.57000732421875\n",
      "buildMarkovMatrix:  price= 177.57000732421875:  (curr, next)= (S2,S2)\n",
      "buildMarkovMatrix:  price=176.64999389648438\n",
      "buildMarkovMatrix:  price= 176.64999389648438:  (curr, next)= (S2,S2)\n",
      "buildMarkovMatrix:  price=179.22999572753906\n",
      "buildMarkovMatrix:  price= 179.22999572753906:  (curr, next)= (S2,S2)\n",
      "buildMarkovMatrix:  price=181.82000732421875\n",
      "buildMarkovMatrix:  price= 181.82000732421875:  (curr, next)= (S2,S2)\n",
      "buildMarkovMatrix:  price=182.88999938964844\n",
      "buildMarkovMatrix:  price= 182.88999938964844:  (curr, next)= (S2,S2)\n",
      "buildMarkovMatrix:  price=182.41000366210938\n",
      "buildMarkovMatrix:  price= 182.41000366210938:  (curr, next)= (S2,S2)\n",
      "buildMarkovMatrix:  price=186.39999389648438\n",
      "buildMarkovMatrix:  price= 186.39999389648438:  (curr, next)= (S2,S2)\n"
     ]
    }
   ],
   "source": [
    "buildMarkovMatrix(trMatrixAAPL, df_aapl_close, binEdgesAAPL)"
   ]
  },
  {
   "cell_type": "code",
   "execution_count": 38,
   "id": "bb2a68c5-9cb5-4f6b-9c59-764b4f993efb",
   "metadata": {
    "scrolled": true,
    "tags": []
   },
   "outputs": [
    {
     "data": {
      "text/plain": [
       "array([[ 24.,   4.,   0.],\n",
       "       [  3.,  63.,   7.],\n",
       "       [  0.,   6., 109.]])"
      ]
     },
     "execution_count": 38,
     "metadata": {},
     "output_type": "execute_result"
    }
   ],
   "source": [
    "trMatrixAAPL"
   ]
  },
  {
   "cell_type": "code",
   "execution_count": 39,
   "id": "0203ba06-d109-4ee9-9bca-f305e954dd58",
   "metadata": {},
   "outputs": [
    {
     "name": "stdout",
     "output_type": "stream",
     "text": [
      "buildMarkovMatrix:  price=14.3149995803833\n",
      "buildMarkovMatrix:  temp=14.3149995803833:  (curr, next)= (S0,S0)\n",
      "buildMarkovMatrix:  price=14.74899959564209\n",
      "buildMarkovMatrix:  price= 14.74899959564209:  (curr, next)= (S0,S0)\n",
      "buildMarkovMatrix:  price=14.265000343322754\n",
      "buildMarkovMatrix:  price= 14.265000343322754:  (curr, next)= (S0,S0)\n",
      "buildMarkovMatrix:  price=14.859000205993652\n",
      "buildMarkovMatrix:  price= 14.859000205993652:  (curr, next)= (S0,S0)\n",
      "buildMarkovMatrix:  price=15.628000259399414\n",
      "buildMarkovMatrix:  price= 15.628000259399414:  (curr, next)= (S0,S0)\n",
      "buildMarkovMatrix:  price=15.909000396728516\n",
      "buildMarkovMatrix:  price= 15.909000396728516:  (curr, next)= (S0,S0)\n",
      "buildMarkovMatrix:  price=16.000999450683594\n",
      "buildMarkovMatrix:  price= 16.000999450683594:  (curr, next)= (S0,S0)\n",
      "buildMarkovMatrix:  price=16.51099967956543\n",
      "buildMarkovMatrix:  price= 16.51099967956543:  (curr, next)= (S0,S0)\n",
      "buildMarkovMatrix:  price=16.89900016784668\n",
      "buildMarkovMatrix:  price= 16.89900016784668:  (curr, next)= (S0,S0)\n",
      "buildMarkovMatrix:  price=17.70199966430664\n",
      "buildMarkovMatrix:  price= 17.70199966430664:  (curr, next)= (S0,S0)\n",
      "buildMarkovMatrix:  price=17.37700080871582\n",
      "buildMarkovMatrix:  price= 17.37700080871582:  (curr, next)= (S0,S0)\n",
      "buildMarkovMatrix:  price=16.764999389648438\n",
      "buildMarkovMatrix:  price= 16.764999389648438:  (curr, next)= (S0,S0)\n",
      "buildMarkovMatrix:  price=17.839000701904297\n",
      "buildMarkovMatrix:  price= 17.839000701904297:  (curr, next)= (S0,S0)\n",
      "buildMarkovMatrix:  price=19.19300079345703\n",
      "buildMarkovMatrix:  price= 19.19300079345703:  (curr, next)= (S0,S0)\n",
      "buildMarkovMatrix:  price=19.264999389648438\n",
      "buildMarkovMatrix:  price= 19.264999389648438:  (curr, next)= (S0,S0)\n",
      "buildMarkovMatrix:  price=19.322999954223633\n",
      "buildMarkovMatrix:  price= 19.322999954223633:  (curr, next)= (S0,S0)\n",
      "buildMarkovMatrix:  price=19.802000045776367\n",
      "buildMarkovMatrix:  price= 19.802000045776367:  (curr, next)= (S0,S0)\n",
      "buildMarkovMatrix:  price=20.364999771118164\n",
      "buildMarkovMatrix:  price= 20.364999771118164:  (curr, next)= (S0,S0)\n",
      "buildMarkovMatrix:  price=19.16200065612793\n",
      "buildMarkovMatrix:  price= 19.16200065612793:  (curr, next)= (S0,S0)\n",
      "buildMarkovMatrix:  price=19.53700065612793\n",
      "buildMarkovMatrix:  price= 19.53700065612793:  (curr, next)= (S0,S0)\n",
      "buildMarkovMatrix:  price=20.94300079345703\n",
      "buildMarkovMatrix:  price= 20.94300079345703:  (curr, next)= (S0,S0)\n",
      "buildMarkovMatrix:  price=21.708999633789062\n",
      "buildMarkovMatrix:  price= 21.708999633789062:  (curr, next)= (S0,S0)\n",
      "buildMarkovMatrix:  price=21.100000381469727\n",
      "buildMarkovMatrix:  price= 21.100000381469727:  (curr, next)= (S0,S0)\n",
      "buildMarkovMatrix:  price=21.089000701904297\n",
      "buildMarkovMatrix:  price= 21.089000701904297:  (curr, next)= (S0,S0)\n",
      "buildMarkovMatrix:  price=22.17300033569336\n",
      "buildMarkovMatrix:  price= 22.17300033569336:  (curr, next)= (S0,S0)\n",
      "buildMarkovMatrix:  price=22.204999923706055\n",
      "buildMarkovMatrix:  price= 22.204999923706055:  (curr, next)= (S0,S0)\n",
      "buildMarkovMatrix:  price=22.336999893188477\n",
      "buildMarkovMatrix:  price= 22.336999893188477:  (curr, next)= (S0,S0)\n",
      "buildMarkovMatrix:  price=21.264999389648438\n",
      "buildMarkovMatrix:  price= 21.264999389648438:  (curr, next)= (S0,S0)\n",
      "buildMarkovMatrix:  price=21.788000106811523\n",
      "buildMarkovMatrix:  price= 21.788000106811523:  (curr, next)= (S0,S0)\n",
      "buildMarkovMatrix:  price=22.97100067138672\n",
      "buildMarkovMatrix:  price= 22.97100067138672:  (curr, next)= (S0,S0)\n",
      "buildMarkovMatrix:  price=22.763999938964844\n",
      "buildMarkovMatrix:  price= 22.763999938964844:  (curr, next)= (S0,S0)\n",
      "buildMarkovMatrix:  price=22.00200080871582\n",
      "buildMarkovMatrix:  price= 22.00200080871582:  (curr, next)= (S0,S0)\n",
      "buildMarkovMatrix:  price=21.38800048828125\n",
      "buildMarkovMatrix:  price= 21.38800048828125:  (curr, next)= (S0,S0)\n",
      "buildMarkovMatrix:  price=20.655000686645508\n",
      "buildMarkovMatrix:  price= 20.655000686645508:  (curr, next)= (S0,S0)\n",
      "buildMarkovMatrix:  price=20.753999710083008\n",
      "buildMarkovMatrix:  price= 20.753999710083008:  (curr, next)= (S0,S0)\n",
      "buildMarkovMatrix:  price=23.663999557495117\n",
      "buildMarkovMatrix:  price= 23.663999557495117:  (curr, next)= (S0,S0)\n",
      "buildMarkovMatrix:  price=23.285999298095703\n",
      "buildMarkovMatrix:  price= 23.285999298095703:  (curr, next)= (S0,S0)\n",
      "buildMarkovMatrix:  price=23.500999450683594\n",
      "buildMarkovMatrix:  price= 23.500999450683594:  (curr, next)= (S0,S0)\n",
      "buildMarkovMatrix:  price=23.215999603271484\n",
      "buildMarkovMatrix:  price= 23.215999603271484:  (curr, next)= (S0,S0)\n",
      "buildMarkovMatrix:  price=22.697999954223633\n",
      "buildMarkovMatrix:  price= 22.697999954223633:  (curr, next)= (S0,S0)\n",
      "buildMarkovMatrix:  price=23.31399917602539\n",
      "buildMarkovMatrix:  price= 23.31399917602539:  (curr, next)= (S0,S0)\n",
      "buildMarkovMatrix:  price=23.889999389648438\n",
      "buildMarkovMatrix:  price= 23.889999389648438:  (curr, next)= (S0,S0)\n",
      "buildMarkovMatrix:  price=23.554000854492188\n",
      "buildMarkovMatrix:  price= 23.554000854492188:  (curr, next)= (S0,S0)\n",
      "buildMarkovMatrix:  price=23.288000106811523\n",
      "buildMarkovMatrix:  price= 23.288000106811523:  (curr, next)= (S0,S0)\n",
      "buildMarkovMatrix:  price=24.180999755859375\n",
      "buildMarkovMatrix:  price= 24.180999755859375:  (curr, next)= (S0,S0)\n",
      "buildMarkovMatrix:  price=23.43600082397461\n",
      "buildMarkovMatrix:  price= 23.43600082397461:  (curr, next)= (S0,S0)\n",
      "buildMarkovMatrix:  price=22.96500015258789\n",
      "buildMarkovMatrix:  price= 22.96500015258789:  (curr, next)= (S0,S0)\n",
      "buildMarkovMatrix:  price=22.965999603271484\n",
      "buildMarkovMatrix:  price= 22.965999603271484:  (curr, next)= (S0,S0)\n",
      "buildMarkovMatrix:  price=24.062999725341797\n",
      "buildMarkovMatrix:  price= 24.062999725341797:  (curr, next)= (S0,S0)\n",
      "buildMarkovMatrix:  price=24.22800064086914\n",
      "buildMarkovMatrix:  price= 24.22800064086914:  (curr, next)= (S0,S0)\n",
      "buildMarkovMatrix:  price=25.541000366210938\n",
      "buildMarkovMatrix:  price= 25.541000366210938:  (curr, next)= (S0,S0)\n",
      "buildMarkovMatrix:  price=25.725000381469727\n",
      "buildMarkovMatrix:  price= 25.725000381469727:  (curr, next)= (S0,S0)\n",
      "buildMarkovMatrix:  price=25.899999618530273\n",
      "buildMarkovMatrix:  price= 25.899999618530273:  (curr, next)= (S0,S0)\n",
      "buildMarkovMatrix:  price=26.198999404907227\n",
      "buildMarkovMatrix:  price= 26.198999404907227:  (curr, next)= (S0,S1)\n",
      "buildMarkovMatrix:  price=26.468000411987305\n",
      "buildMarkovMatrix:  price= 26.468000411987305:  (curr, next)= (S1,S1)\n",
      "buildMarkovMatrix:  price=27.19099998474121\n",
      "buildMarkovMatrix:  price= 27.19099998474121:  (curr, next)= (S1,S1)\n",
      "buildMarkovMatrix:  price=26.77899932861328\n",
      "buildMarkovMatrix:  price= 26.77899932861328:  (curr, next)= (S1,S1)\n",
      "buildMarkovMatrix:  price=26.5310001373291\n",
      "buildMarkovMatrix:  price= 26.5310001373291:  (curr, next)= (S1,S1)\n",
      "buildMarkovMatrix:  price=26.40999984741211\n",
      "buildMarkovMatrix:  price= 26.40999984741211:  (curr, next)= (S1,S1)\n",
      "buildMarkovMatrix:  price=26.983999252319336\n",
      "buildMarkovMatrix:  price= 26.983999252319336:  (curr, next)= (S1,S1)\n",
      "buildMarkovMatrix:  price=27.382999420166016\n",
      "buildMarkovMatrix:  price= 27.382999420166016:  (curr, next)= (S1,S1)\n",
      "buildMarkovMatrix:  price=27.777000427246094\n",
      "buildMarkovMatrix:  price= 27.777000427246094:  (curr, next)= (S1,S1)\n",
      "buildMarkovMatrix:  price=27.96500015258789\n",
      "buildMarkovMatrix:  price= 27.96500015258789:  (curr, next)= (S1,S1)\n",
      "buildMarkovMatrix:  price=27.452999114990234\n",
      "buildMarkovMatrix:  price= 27.452999114990234:  (curr, next)= (S1,S1)\n",
      "buildMarkovMatrix:  price=26.881000518798828\n",
      "buildMarkovMatrix:  price= 26.881000518798828:  (curr, next)= (S1,S1)\n",
      "buildMarkovMatrix:  price=27.03700065612793\n",
      "buildMarkovMatrix:  price= 27.03700065612793:  (curr, next)= (S1,S1)\n",
      "buildMarkovMatrix:  price=27.57900047302246\n",
      "buildMarkovMatrix:  price= 27.57900047302246:  (curr, next)= (S1,S1)\n",
      "buildMarkovMatrix:  price=27.16900062561035\n",
      "buildMarkovMatrix:  price= 27.16900062561035:  (curr, next)= (S1,S1)\n",
      "buildMarkovMatrix:  price=26.4950008392334\n",
      "buildMarkovMatrix:  price= 26.4950008392334:  (curr, next)= (S1,S1)\n",
      "buildMarkovMatrix:  price=26.46299934387207\n",
      "buildMarkovMatrix:  price= 26.46299934387207:  (curr, next)= (S1,S1)\n",
      "buildMarkovMatrix:  price=26.757999420166016\n",
      "buildMarkovMatrix:  price= 26.757999420166016:  (curr, next)= (S1,S1)\n",
      "buildMarkovMatrix:  price=27.00200080871582\n",
      "buildMarkovMatrix:  price= 27.00200080871582:  (curr, next)= (S1,S1)\n",
      "buildMarkovMatrix:  price=27.66699981689453\n",
      "buildMarkovMatrix:  price= 27.66699981689453:  (curr, next)= (S1,S1)\n",
      "buildMarkovMatrix:  price=27.930999755859375\n",
      "buildMarkovMatrix:  price= 27.930999755859375:  (curr, next)= (S1,S1)\n",
      "buildMarkovMatrix:  price=27.104000091552734\n",
      "buildMarkovMatrix:  price= 27.104000091552734:  (curr, next)= (S1,S1)\n",
      "buildMarkovMatrix:  price=27.118999481201172\n",
      "buildMarkovMatrix:  price= 27.118999481201172:  (curr, next)= (S1,S1)\n",
      "buildMarkovMatrix:  price=27.04199981689453\n",
      "buildMarkovMatrix:  price= 27.04199981689453:  (curr, next)= (S1,S1)\n",
      "buildMarkovMatrix:  price=26.240999221801758\n",
      "buildMarkovMatrix:  price= 26.240999221801758:  (curr, next)= (S1,S1)\n",
      "buildMarkovMatrix:  price=26.95599937438965\n",
      "buildMarkovMatrix:  price= 26.95599937438965:  (curr, next)= (S1,S1)\n",
      "buildMarkovMatrix:  price=27.22599983215332\n",
      "buildMarkovMatrix:  price= 27.22599983215332:  (curr, next)= (S1,S1)\n",
      "buildMarkovMatrix:  price=27.749000549316406\n",
      "buildMarkovMatrix:  price= 27.749000549316406:  (curr, next)= (S1,S1)\n",
      "buildMarkovMatrix:  price=28.90999984741211\n",
      "buildMarkovMatrix:  price= 28.90999984741211:  (curr, next)= (S1,S1)\n",
      "buildMarkovMatrix:  price=28.209999084472656\n",
      "buildMarkovMatrix:  price= 28.209999084472656:  (curr, next)= (S1,S1)\n",
      "buildMarkovMatrix:  price=27.802000045776367\n",
      "buildMarkovMatrix:  price= 27.802000045776367:  (curr, next)= (S1,S1)\n",
      "buildMarkovMatrix:  price=27.562000274658203\n",
      "buildMarkovMatrix:  price= 27.562000274658203:  (curr, next)= (S1,S1)\n",
      "buildMarkovMatrix:  price=28.68000030517578\n",
      "buildMarkovMatrix:  price= 28.68000030517578:  (curr, next)= (S1,S1)\n",
      "buildMarkovMatrix:  price=29.150999069213867\n",
      "buildMarkovMatrix:  price= 29.150999069213867:  (curr, next)= (S1,S1)\n",
      "buildMarkovMatrix:  price=28.570999145507812\n",
      "buildMarkovMatrix:  price= 28.570999145507812:  (curr, next)= (S1,S1)\n",
      "buildMarkovMatrix:  price=28.885000228881836\n",
      "buildMarkovMatrix:  price= 28.885000228881836:  (curr, next)= (S1,S1)\n",
      "buildMarkovMatrix:  price=28.577999114990234\n",
      "buildMarkovMatrix:  price= 28.577999114990234:  (curr, next)= (S1,S1)\n",
      "buildMarkovMatrix:  price=28.34000015258789\n",
      "buildMarkovMatrix:  price= 28.34000015258789:  (curr, next)= (S1,S1)\n",
      "buildMarkovMatrix:  price=28.952999114990234\n",
      "buildMarkovMatrix:  price= 28.952999114990234:  (curr, next)= (S1,S1)\n",
      "buildMarkovMatrix:  price=29.21299934387207\n",
      "buildMarkovMatrix:  price= 29.21299934387207:  (curr, next)= (S1,S1)\n",
      "buildMarkovMatrix:  price=30.17799949645996\n",
      "buildMarkovMatrix:  price= 30.17799949645996:  (curr, next)= (S1,S1)\n",
      "buildMarkovMatrix:  price=31.67799949645996\n",
      "buildMarkovMatrix:  price= 31.67799949645996:  (curr, next)= (S1,S1)\n",
      "buildMarkovMatrix:  price=31.263999938964844\n",
      "buildMarkovMatrix:  price= 31.263999938964844:  (curr, next)= (S1,S1)\n",
      "buildMarkovMatrix:  price=31.176000595092773\n",
      "buildMarkovMatrix:  price= 31.176000595092773:  (curr, next)= (S1,S1)\n",
      "buildMarkovMatrix:  price=30.687999725341797\n",
      "buildMarkovMatrix:  price= 30.687999725341797:  (curr, next)= (S1,S1)\n",
      "buildMarkovMatrix:  price=30.538000106811523\n",
      "buildMarkovMatrix:  price= 30.538000106811523:  (curr, next)= (S1,S1)\n",
      "buildMarkovMatrix:  price=37.97999954223633\n",
      "buildMarkovMatrix:  price= 37.97999954223633:  (curr, next)= (S1,S2)\n",
      "buildMarkovMatrix:  price=38.94599914550781\n",
      "buildMarkovMatrix:  price= 38.94599914550781:  (curr, next)= (S2,S2)\n",
      "buildMarkovMatrix:  price=40.111000061035156\n",
      "buildMarkovMatrix:  price= 40.111000061035156:  (curr, next)= (S2,S2)\n",
      "buildMarkovMatrix:  price=37.83399963378906\n",
      "buildMarkovMatrix:  price= 37.83399963378906:  (curr, next)= (S2,S2)\n",
      "buildMarkovMatrix:  price=39.77000045776367\n",
      "buildMarkovMatrix:  price= 39.77000045776367:  (curr, next)= (S2,S2)\n",
      "buildMarkovMatrix:  price=39.32699966430664\n",
      "buildMarkovMatrix:  price= 39.32699966430664:  (curr, next)= (S2,S2)\n",
      "buildMarkovMatrix:  price=39.17100143432617\n",
      "buildMarkovMatrix:  price= 39.17100143432617:  (curr, next)= (S2,S2)\n",
      "buildMarkovMatrix:  price=38.65399932861328\n",
      "buildMarkovMatrix:  price= 38.65399932861328:  (curr, next)= (S2,S2)\n",
      "buildMarkovMatrix:  price=37.474998474121094\n",
      "buildMarkovMatrix:  price= 37.474998474121094:  (curr, next)= (S2,S1)\n",
      "buildMarkovMatrix:  price=38.5099983215332\n",
      "buildMarkovMatrix:  price= 38.5099983215332:  (curr, next)= (S1,S2)\n",
      "buildMarkovMatrix:  price=38.77000045776367\n",
      "buildMarkovMatrix:  price= 38.77000045776367:  (curr, next)= (S2,S2)\n",
      "buildMarkovMatrix:  price=39.481998443603516\n",
      "buildMarkovMatrix:  price= 39.481998443603516:  (curr, next)= (S2,S2)\n",
      "buildMarkovMatrix:  price=41.02199935913086\n",
      "buildMarkovMatrix:  price= 41.02199935913086:  (curr, next)= (S2,S2)\n",
      "buildMarkovMatrix:  price=42.99700164794922\n",
      "buildMarkovMatrix:  price= 42.99700164794922:  (curr, next)= (S2,S2)\n",
      "buildMarkovMatrix:  price=42.65299987792969\n",
      "buildMarkovMatrix:  price= 42.65299987792969:  (curr, next)= (S2,S2)\n",
      "buildMarkovMatrix:  price=42.69200134277344\n",
      "buildMarkovMatrix:  price= 42.69200134277344:  (curr, next)= (S2,S2)\n",
      "buildMarkovMatrix:  price=43.80799865722656\n",
      "buildMarkovMatrix:  price= 43.80799865722656:  (curr, next)= (S2,S2)\n",
      "buildMarkovMatrix:  price=43.04499816894531\n",
      "buildMarkovMatrix:  price= 43.04499816894531:  (curr, next)= (S2,S2)\n",
      "buildMarkovMatrix:  price=43.025001525878906\n",
      "buildMarkovMatrix:  price= 43.025001525878906:  (curr, next)= (S2,S2)\n",
      "buildMarkovMatrix:  price=42.20899963378906\n",
      "buildMarkovMatrix:  price= 42.20899963378906:  (curr, next)= (S2,S2)\n",
      "buildMarkovMatrix:  price=40.63199996948242\n",
      "buildMarkovMatrix:  price= 40.63199996948242:  (curr, next)= (S2,S2)\n",
      "buildMarkovMatrix:  price=41.875999450683594\n",
      "buildMarkovMatrix:  price= 41.875999450683594:  (curr, next)= (S2,S2)\n",
      "buildMarkovMatrix:  price=41.117000579833984\n",
      "buildMarkovMatrix:  price= 41.117000579833984:  (curr, next)= (S2,S2)\n",
      "buildMarkovMatrix:  price=40.821998596191406\n",
      "buildMarkovMatrix:  price= 40.821998596191406:  (curr, next)= (S2,S2)\n",
      "buildMarkovMatrix:  price=42.301998138427734\n",
      "buildMarkovMatrix:  price= 42.301998138427734:  (curr, next)= (S2,S2)\n",
      "buildMarkovMatrix:  price=42.41299819946289\n",
      "buildMarkovMatrix:  price= 42.41299819946289:  (curr, next)= (S2,S2)\n",
      "buildMarkovMatrix:  price=42.31700134277344\n",
      "buildMarkovMatrix:  price= 42.31700134277344:  (curr, next)= (S2,S2)\n",
      "buildMarkovMatrix:  price=42.10300064086914\n",
      "buildMarkovMatrix:  price= 42.10300064086914:  (curr, next)= (S2,S2)\n",
      "buildMarkovMatrix:  price=42.50299835205078\n",
      "buildMarkovMatrix:  price= 42.50299835205078:  (curr, next)= (S2,S2)\n",
      "buildMarkovMatrix:  price=42.18000030517578\n",
      "buildMarkovMatrix:  price= 42.18000030517578:  (curr, next)= (S2,S2)\n",
      "buildMarkovMatrix:  price=42.404998779296875\n",
      "buildMarkovMatrix:  price= 42.404998779296875:  (curr, next)= (S2,S2)\n",
      "buildMarkovMatrix:  price=43.902000427246094\n",
      "buildMarkovMatrix:  price= 43.902000427246094:  (curr, next)= (S2,S2)\n",
      "buildMarkovMatrix:  price=45.97700119018555\n",
      "buildMarkovMatrix:  price= 45.97700119018555:  (curr, next)= (S2,S2)\n",
      "buildMarkovMatrix:  price=45.46900177001953\n",
      "buildMarkovMatrix:  price= 45.46900177001953:  (curr, next)= (S2,S2)\n",
      "buildMarkovMatrix:  price=46.46099853515625\n",
      "buildMarkovMatrix:  price= 46.46099853515625:  (curr, next)= (S2,S2)\n",
      "buildMarkovMatrix:  price=47.49399948120117\n",
      "buildMarkovMatrix:  price= 47.49399948120117:  (curr, next)= (S2,S2)\n",
      "buildMarkovMatrix:  price=47.07699966430664\n",
      "buildMarkovMatrix:  price= 47.07699966430664:  (curr, next)= (S2,S2)\n",
      "buildMarkovMatrix:  price=45.52000045776367\n",
      "buildMarkovMatrix:  price= 45.52000045776367:  (curr, next)= (S2,S2)\n",
      "buildMarkovMatrix:  price=44.308998107910156\n",
      "buildMarkovMatrix:  price= 44.308998107910156:  (curr, next)= (S2,S2)\n",
      "buildMarkovMatrix:  price=44.61199951171875\n",
      "buildMarkovMatrix:  price= 44.61199951171875:  (curr, next)= (S2,S2)\n",
      "buildMarkovMatrix:  price=45.67900085449219\n",
      "buildMarkovMatrix:  price= 45.67900085449219:  (curr, next)= (S2,S2)\n",
      "buildMarkovMatrix:  price=45.45199966430664\n",
      "buildMarkovMatrix:  price= 45.45199966430664:  (curr, next)= (S2,S2)\n",
      "buildMarkovMatrix:  price=45.900001525878906\n",
      "buildMarkovMatrix:  price= 45.900001525878906:  (curr, next)= (S2,S2)\n",
      "buildMarkovMatrix:  price=46.75\n",
      "buildMarkovMatrix:  price= 46.75:  (curr, next)= (S2,S2)\n",
      "buildMarkovMatrix:  price=46.729000091552734\n",
      "buildMarkovMatrix:  price= 46.729000091552734:  (curr, next)= (S2,S2)\n",
      "buildMarkovMatrix:  price=46.50699996948242\n",
      "buildMarkovMatrix:  price= 46.50699996948242:  (curr, next)= (S2,S2)\n",
      "buildMarkovMatrix:  price=44.26900100708008\n",
      "buildMarkovMatrix:  price= 44.26900100708008:  (curr, next)= (S2,S2)\n",
      "buildMarkovMatrix:  price=44.51499938964844\n",
      "buildMarkovMatrix:  price= 44.51499938964844:  (curr, next)= (S2,S2)\n",
      "buildMarkovMatrix:  price=44.68000030517578\n",
      "buildMarkovMatrix:  price= 44.68000030517578:  (curr, next)= (S2,S2)\n",
      "buildMarkovMatrix:  price=45.41699981689453\n",
      "buildMarkovMatrix:  price= 45.41699981689453:  (curr, next)= (S2,S2)\n",
      "buildMarkovMatrix:  price=44.66400146484375\n",
      "buildMarkovMatrix:  price= 44.66400146484375:  (curr, next)= (S2,S2)\n",
      "buildMarkovMatrix:  price=42.55400085449219\n",
      "buildMarkovMatrix:  price= 42.55400085449219:  (curr, next)= (S2,S2)\n",
      "buildMarkovMatrix:  price=42.38800048828125\n",
      "buildMarkovMatrix:  price= 42.38800048828125:  (curr, next)= (S2,S2)\n",
      "buildMarkovMatrix:  price=40.85499954223633\n",
      "buildMarkovMatrix:  price= 40.85499954223633:  (curr, next)= (S2,S2)\n",
      "buildMarkovMatrix:  price=43.75299835205078\n",
      "buildMarkovMatrix:  price= 43.75299835205078:  (curr, next)= (S2,S2)\n",
      "buildMarkovMatrix:  price=43.939998626708984\n",
      "buildMarkovMatrix:  price= 43.939998626708984:  (curr, next)= (S2,S2)\n",
      "buildMarkovMatrix:  price=43.486000061035156\n",
      "buildMarkovMatrix:  price= 43.486000061035156:  (curr, next)= (S2,S2)\n",
      "buildMarkovMatrix:  price=43.34400177001953\n",
      "buildMarkovMatrix:  price= 43.34400177001953:  (curr, next)= (S2,S2)\n",
      "buildMarkovMatrix:  price=43.29899978637695\n",
      "buildMarkovMatrix:  price= 43.29899978637695:  (curr, next)= (S2,S2)\n",
      "buildMarkovMatrix:  price=46.96699905395508\n",
      "buildMarkovMatrix:  price= 46.96699905395508:  (curr, next)= (S2,S2)\n",
      "buildMarkovMatrix:  price=45.667999267578125\n",
      "buildMarkovMatrix:  price= 45.667999267578125:  (curr, next)= (S2,S2)\n",
      "buildMarkovMatrix:  price=47.11600112915039\n",
      "buildMarkovMatrix:  price= 47.11600112915039:  (curr, next)= (S2,S2)\n",
      "buildMarkovMatrix:  price=47.16299819946289\n",
      "buildMarkovMatrix:  price= 47.16299819946289:  (curr, next)= (S2,S2)\n",
      "buildMarkovMatrix:  price=46.018001556396484\n",
      "buildMarkovMatrix:  price= 46.018001556396484:  (curr, next)= (S2,S2)\n",
      "buildMarkovMatrix:  price=46.834999084472656\n",
      "buildMarkovMatrix:  price= 46.834999084472656:  (curr, next)= (S2,S2)\n",
      "buildMarkovMatrix:  price=48.784000396728516\n",
      "buildMarkovMatrix:  price= 48.784000396728516:  (curr, next)= (S2,S2)\n",
      "buildMarkovMatrix:  price=49.263999938964844\n",
      "buildMarkovMatrix:  price= 49.263999938964844:  (curr, next)= (S2,S2)\n",
      "buildMarkovMatrix:  price=49.35499954223633\n",
      "buildMarkovMatrix:  price= 49.35499954223633:  (curr, next)= (S2,S2)\n",
      "buildMarkovMatrix:  price=48.50899887084961\n",
      "buildMarkovMatrix:  price= 48.50899887084961:  (curr, next)= (S2,S2)\n",
      "buildMarkovMatrix:  price=48.54800033569336\n",
      "buildMarkovMatrix:  price= 48.54800033569336:  (curr, next)= (S2,S2)\n",
      "buildMarkovMatrix:  price=47.06100082397461\n",
      "buildMarkovMatrix:  price= 47.06100082397461:  (curr, next)= (S2,S2)\n",
      "buildMarkovMatrix:  price=46.24100112915039\n",
      "buildMarkovMatrix:  price= 46.24100112915039:  (curr, next)= (S2,S2)\n",
      "buildMarkovMatrix:  price=45.571998596191406\n",
      "buildMarkovMatrix:  price= 45.571998596191406:  (curr, next)= (S2,S2)\n",
      "buildMarkovMatrix:  price=45.178001403808594\n",
      "buildMarkovMatrix:  price= 45.178001403808594:  (curr, next)= (S2,S2)\n",
      "buildMarkovMatrix:  price=44.869998931884766\n",
      "buildMarkovMatrix:  price= 44.869998931884766:  (curr, next)= (S2,S2)\n",
      "buildMarkovMatrix:  price=45.48500061035156\n",
      "buildMarkovMatrix:  price= 45.48500061035156:  (curr, next)= (S2,S2)\n",
      "buildMarkovMatrix:  price=45.58100128173828\n",
      "buildMarkovMatrix:  price= 45.58100128173828:  (curr, next)= (S2,S2)\n",
      "buildMarkovMatrix:  price=43.900001525878906\n",
      "buildMarkovMatrix:  price= 43.900001525878906:  (curr, next)= (S2,S2)\n",
      "buildMarkovMatrix:  price=43.965999603271484\n",
      "buildMarkovMatrix:  price= 43.965999603271484:  (curr, next)= (S2,S2)\n",
      "buildMarkovMatrix:  price=43.52000045776367\n",
      "buildMarkovMatrix:  price= 43.52000045776367:  (curr, next)= (S2,S2)\n",
      "buildMarkovMatrix:  price=42.23899841308594\n",
      "buildMarkovMatrix:  price= 42.23899841308594:  (curr, next)= (S2,S2)\n",
      "buildMarkovMatrix:  price=41.016998291015625\n",
      "buildMarkovMatrix:  price= 41.016998291015625:  (curr, next)= (S2,S2)\n",
      "buildMarkovMatrix:  price=41.61000061035156\n",
      "buildMarkovMatrix:  price= 41.61000061035156:  (curr, next)= (S2,S2)\n",
      "buildMarkovMatrix:  price=42.22200012207031\n",
      "buildMarkovMatrix:  price= 42.22200012207031:  (curr, next)= (S2,S2)\n",
      "buildMarkovMatrix:  price=41.9109992980957\n",
      "buildMarkovMatrix:  price= 41.9109992980957:  (curr, next)= (S2,S2)\n",
      "buildMarkovMatrix:  price=42.46799850463867\n",
      "buildMarkovMatrix:  price= 42.46799850463867:  (curr, next)= (S2,S2)\n",
      "buildMarkovMatrix:  price=43.0890007019043\n",
      "buildMarkovMatrix:  price= 43.0890007019043:  (curr, next)= (S2,S2)\n",
      "buildMarkovMatrix:  price=43.499000549316406\n",
      "buildMarkovMatrix:  price= 43.499000549316406:  (curr, next)= (S2,S2)\n",
      "buildMarkovMatrix:  price=44.78200149536133\n",
      "buildMarkovMatrix:  price= 44.78200149536133:  (curr, next)= (S2,S2)\n",
      "buildMarkovMatrix:  price=43.516998291015625\n",
      "buildMarkovMatrix:  price= 43.516998291015625:  (curr, next)= (S2,S2)\n",
      "buildMarkovMatrix:  price=44.04100036621094\n",
      "buildMarkovMatrix:  price= 44.04100036621094:  (curr, next)= (S2,S2)\n",
      "buildMarkovMatrix:  price=44.6879997253418\n",
      "buildMarkovMatrix:  price= 44.6879997253418:  (curr, next)= (S2,S2)\n",
      "buildMarkovMatrix:  price=45.762001037597656\n",
      "buildMarkovMatrix:  price= 45.762001037597656:  (curr, next)= (S2,S2)\n",
      "buildMarkovMatrix:  price=45.27299880981445\n",
      "buildMarkovMatrix:  price= 45.27299880981445:  (curr, next)= (S2,S2)\n",
      "buildMarkovMatrix:  price=45.79800033569336\n",
      "buildMarkovMatrix:  price= 45.79800033569336:  (curr, next)= (S2,S2)\n",
      "buildMarkovMatrix:  price=46.805999755859375\n",
      "buildMarkovMatrix:  price= 46.805999755859375:  (curr, next)= (S2,S2)\n",
      "buildMarkovMatrix:  price=46.94499969482422\n",
      "buildMarkovMatrix:  price= 46.94499969482422:  (curr, next)= (S2,S2)\n",
      "buildMarkovMatrix:  price=45.46099853515625\n",
      "buildMarkovMatrix:  price= 45.46099853515625:  (curr, next)= (S2,S2)\n",
      "buildMarkovMatrix:  price=46.095001220703125\n",
      "buildMarkovMatrix:  price= 46.095001220703125:  (curr, next)= (S2,S2)\n",
      "buildMarkovMatrix:  price=43.9379997253418\n",
      "buildMarkovMatrix:  price= 43.9379997253418:  (curr, next)= (S2,S2)\n",
      "buildMarkovMatrix:  price=42.19599914550781\n",
      "buildMarkovMatrix:  price= 42.19599914550781:  (curr, next)= (S2,S2)\n",
      "buildMarkovMatrix:  price=42.10100173950195\n",
      "buildMarkovMatrix:  price= 42.10100173950195:  (curr, next)= (S2,S2)\n",
      "buildMarkovMatrix:  price=41.387001037597656\n",
      "buildMarkovMatrix:  price= 41.387001037597656:  (curr, next)= (S2,S2)\n",
      "buildMarkovMatrix:  price=42.974998474121094\n",
      "buildMarkovMatrix:  price= 42.974998474121094:  (curr, next)= (S2,S2)\n",
      "buildMarkovMatrix:  price=43.66299819946289\n",
      "buildMarkovMatrix:  price= 43.66299819946289:  (curr, next)= (S2,S2)\n",
      "buildMarkovMatrix:  price=41.77899932861328\n",
      "buildMarkovMatrix:  price= 41.77899932861328:  (curr, next)= (S2,S2)\n",
      "buildMarkovMatrix:  price=40.32600021362305\n",
      "buildMarkovMatrix:  price= 40.32600021362305:  (curr, next)= (S2,S2)\n",
      "buildMarkovMatrix:  price=40.5\n",
      "buildMarkovMatrix:  price= 40.5:  (curr, next)= (S2,S2)\n",
      "buildMarkovMatrix:  price=41.1609992980957\n",
      "buildMarkovMatrix:  price= 41.1609992980957:  (curr, next)= (S2,S2)\n",
      "buildMarkovMatrix:  price=40.779998779296875\n",
      "buildMarkovMatrix:  price= 40.779998779296875:  (curr, next)= (S2,S2)\n",
      "buildMarkovMatrix:  price=42.32500076293945\n",
      "buildMarkovMatrix:  price= 42.32500076293945:  (curr, next)= (S2,S2)\n",
      "buildMarkovMatrix:  price=43.50600051879883\n",
      "buildMarkovMatrix:  price= 43.50600051879883:  (curr, next)= (S2,S2)\n",
      "buildMarkovMatrix:  price=45.005001068115234\n",
      "buildMarkovMatrix:  price= 45.005001068115234:  (curr, next)= (S2,S2)\n",
      "buildMarkovMatrix:  price=45.750999450683594\n",
      "buildMarkovMatrix:  price= 45.750999450683594:  (curr, next)= (S2,S2)\n",
      "buildMarkovMatrix:  price=45.95500183105469\n",
      "buildMarkovMatrix:  price= 45.95500183105469:  (curr, next)= (S2,S2)\n",
      "buildMarkovMatrix:  price=46.57400131225586\n",
      "buildMarkovMatrix:  price= 46.57400131225586:  (curr, next)= (S2,S2)\n",
      "buildMarkovMatrix:  price=46.95000076293945\n",
      "buildMarkovMatrix:  price= 46.95000076293945:  (curr, next)= (S2,S2)\n",
      "buildMarkovMatrix:  price=48.334999084472656\n",
      "buildMarkovMatrix:  price= 48.334999084472656:  (curr, next)= (S2,S2)\n"
     ]
    }
   ],
   "source": [
    "buildMarkovMatrix(trMatrixNVDA, df_nvidia_close, binEdgesNVDA)"
   ]
  },
  {
   "cell_type": "code",
   "execution_count": 40,
   "id": "18140594-6d18-4a0c-9a95-db15e89c2fcc",
   "metadata": {},
   "outputs": [
    {
     "data": {
      "text/plain": [
       "array([[ 52.,   1.,   0.],\n",
       "       [  0.,  45.,   2.],\n",
       "       [  0.,   1., 115.]])"
      ]
     },
     "execution_count": 40,
     "metadata": {},
     "output_type": "execute_result"
    }
   ],
   "source": [
    "trMatrixNVDA"
   ]
  },
  {
   "cell_type": "code",
   "execution_count": 41,
   "id": "6360a0ad-b2c5-4758-a16f-7417e83db15f",
   "metadata": {
    "tags": []
   },
   "outputs": [],
   "source": [
    "#####\n",
    "# Measure row count and column count then\n",
    "# normalize row counts to make distributions\n",
    "#\n",
    "# result is Markov Matrix, p \n",
    "##\n",
    "\n",
    "def normalizeMarkovMatrix(trMatrix):\n",
    "    rows,cols= trMatrix.shape\n",
    "\n",
    "    for i in range(0,rows):\n",
    "        rowSum= sum(trMatrix[i])\n",
    "    \n",
    "        ###\n",
    "        # Debug artifact\n",
    "       #print(rowSum)\n",
    "    \n",
    "    \n",
    "        if(rowSum != 0):\n",
    "            trMatrix[i]= trMatrix[i]/rowSum\n",
    "\n",
    "    return trMatrix"
   ]
  },
  {
   "cell_type": "code",
   "execution_count": 42,
   "id": "48ca8643-1549-4b50-9a7c-8d22459e5a5e",
   "metadata": {},
   "outputs": [
    {
     "data": {
      "text/plain": [
       "array([[0.85714286, 0.14285714, 0.        ],\n",
       "       [0.04109589, 0.8630137 , 0.09589041],\n",
       "       [0.        , 0.05217391, 0.94782609]])"
      ]
     },
     "execution_count": 42,
     "metadata": {},
     "output_type": "execute_result"
    }
   ],
   "source": [
    "normalizeMarkovMatrix(trMatrixAAPL)"
   ]
  },
  {
   "cell_type": "code",
   "execution_count": 43,
   "id": "f792d78b-a0cb-4fea-9988-858d3ff78926",
   "metadata": {
    "tags": []
   },
   "outputs": [
    {
     "data": {
      "text/plain": [
       "array([[0.98113208, 0.01886792, 0.        ],\n",
       "       [0.        , 0.95744681, 0.04255319],\n",
       "       [0.        , 0.00862069, 0.99137931]])"
      ]
     },
     "execution_count": 43,
     "metadata": {},
     "output_type": "execute_result"
    }
   ],
   "source": [
    "normalizeMarkovMatrix(trMatrixNVDA)"
   ]
  },
  {
   "cell_type": "code",
   "execution_count": 44,
   "id": "3da2dfa2-1463-410c-98ff-98984f988af5",
   "metadata": {
    "tags": []
   },
   "outputs": [],
   "source": [
    "#####\n",
    "# TODO\n",
    "#\n",
    "# 1.  Iterate h-step transition and demonstrate steady state distribution\n",
    "#   Check example code in the findLandingtoConvergence. You're basically looking at that fxn for diff numbers\n",
    "# of states and different initial states (P0) (ex. [1, 0,0,0]). With your transition matrix  \n",
    "#\n",
    "# 2.  Test forcast\n",
    "#     a) begin with any initial state as distribution row vector pi_0= [ s_0,..., s_n]\n",
    "#     b) select time-step h=  1, 2, 3, 4,...\n",
    "#     c) compute h-step transition matrix\n",
    "#     d) apply h-step transition matrix\n",
    "#     e) validate resulting vector pi\n",
    "#      validate means select state or time step that has the largest prob value (greatest of pi)\n",
    "##"
   ]
  },
  {
   "cell_type": "code",
   "execution_count": 45,
   "id": "8bd6f6df-5ce4-4241-9622-c8f394018544",
   "metadata": {},
   "outputs": [],
   "source": [
    "#states:\n",
    "#      S_o,..., S_n \n",
    "#\n",
    "#      Initialize to single state, state S_i\n",
    "initState= 0\n",
    "P0= np.zeros(NUM_BINS)\n",
    "P0[initState]= 1"
   ]
  },
  {
   "cell_type": "code",
   "execution_count": 46,
   "id": "1773965d-8881-4479-b35b-4151ebe760ad",
   "metadata": {},
   "outputs": [
    {
     "data": {
      "text/plain": [
       "array([1., 0., 0.])"
      ]
     },
     "execution_count": 46,
     "metadata": {},
     "output_type": "execute_result"
    }
   ],
   "source": [
    "P0"
   ]
  },
  {
   "cell_type": "code",
   "execution_count": 47,
   "id": "45a6a21b-b1a6-4952-a412-d74a8cb2e00e",
   "metadata": {},
   "outputs": [],
   "source": [
    "#######\n",
    "#  run to convergence or h-many steps, whichever comes first\n",
    "###\n",
    "\n",
    "def findLandingToConvergence(numTimeSteps,P0,trMatrix):\n",
    "    #####\n",
    "    # Initialize P_i to the landing distribution at time t_0\n",
    "    ###\n",
    "    Pi= P0\n",
    "    \n",
    "    for i in range(0,numTimeSteps):\n",
    "        Pi_prev= Pi\n",
    "        Pi= np.matmul(Pi,trMatrix)\n",
    "        np.set_printoptions(precision=3,floatmode='fixed')\n",
    "\n",
    "        #####\n",
    "        # You've reached convergence when P_i does not change.\n",
    "        # That is Pi_prev == Pi.  Programmatically this is achieved\n",
    "        # by checking for equality.  This returns an array of True/False\n",
    "        # results.  We sum them together (i.e. True=1, False=0) and check\n",
    "        # if the sum equals bin count to determine if each position matches.\n",
    "        ##\n",
    "        if ( (i> 1) and (sum(Pi_prev == Pi) == NUM_BINS) ):\n",
    "            print(f'converged iteration({i}):  P_{i}= {Pi}')\n",
    "            break;\n",
    "\n",
    "    print(f'landing prob P_{i+1}:  P_{i+1}= {Pi}')\n",
    "\n",
    "    return Pi"
   ]
  },
  {
   "cell_type": "code",
   "execution_count": 48,
   "id": "836dd32e-e0aa-4c23-a1df-320a6b7e1fa6",
   "metadata": {},
   "outputs": [
    {
     "name": "stdout",
     "output_type": "stream",
     "text": [
      "landing prob P_10:  P_10= [0.827 0.143 0.030]\n"
     ]
    }
   ],
   "source": [
    "Pi=findLandingToConvergence(10,P0,trMatrixNVDA)"
   ]
  },
  {
   "cell_type": "code",
   "execution_count": 49,
   "id": "db05807a",
   "metadata": {},
   "outputs": [
    {
     "name": "stdout",
     "output_type": "stream",
     "text": [
      "landing prob P_20:  P_20= [0.683 0.215 0.101]\n",
      "[0.683 0.215 0.101]\n",
      "landing prob P_40:  P_40= [0.467 0.257 0.276]\n",
      "[0.467 0.257 0.276]\n",
      "landing prob P_80:  P_80= [0.218 0.230 0.552]\n",
      "[0.218 0.230 0.552]\n"
     ]
    }
   ],
   "source": [
    "print(findLandingToConvergence(20,P0,trMatrixNVDA))\n",
    "print(findLandingToConvergence(40,P0,trMatrixNVDA))\n",
    "print(findLandingToConvergence(80,P0,trMatrixNVDA))"
   ]
  },
  {
   "cell_type": "code",
   "execution_count": 50,
   "id": "816032ab-fe5a-483a-9918-7bf1b426d5f9",
   "metadata": {},
   "outputs": [
    {
     "data": {
      "text/plain": [
       "1.0"
      ]
     },
     "execution_count": 50,
     "metadata": {},
     "output_type": "execute_result"
    }
   ],
   "source": [
    "####\n",
    "# verify that landing distribution P_i obeys total probability\n",
    "##\n",
    "np.sum(Pi)"
   ]
  },
  {
   "cell_type": "code",
   "execution_count": 51,
   "id": "84bda8b6",
   "metadata": {},
   "outputs": [
    {
     "name": "stdout",
     "output_type": "stream",
     "text": [
      "landing prob P_1:  P_1= [0.981 0.019 0.000]\n",
      "landing prob P_2:  P_2= [9.626e-01 3.658e-02 8.029e-04]\n",
      "landing prob P_3:  P_3= [0.944 0.053 0.002]\n",
      "landing prob P_4:  P_4= [0.927 0.069 0.005]\n",
      "landing prob P_5:  P_5= [0.909 0.083 0.007]\n",
      "landing prob P_6:  P_6= [0.892 0.097 0.011]\n",
      "landing prob P_7:  P_7= [0.875 0.110 0.015]\n",
      "landing prob P_8:  P_8= [0.859 0.122 0.020]\n",
      "landing prob P_9:  P_9= [0.842 0.133 0.025]\n",
      "landing prob P_10:  P_10= [0.827 0.143 0.030]\n",
      "landing prob P_11:  P_11= [0.811 0.153 0.036]\n",
      "landing prob P_12:  P_12= [0.796 0.162 0.042]\n",
      "landing prob P_13:  P_13= [0.781 0.171 0.049]\n",
      "landing prob P_14:  P_14= [0.766 0.179 0.055]\n",
      "landing prob P_15:  P_15= [0.751 0.186 0.063]\n",
      "landing prob P_16:  P_16= [0.737 0.193 0.070]\n",
      "landing prob P_17:  P_17= [0.723 0.199 0.078]\n",
      "landing prob P_18:  P_18= [0.710 0.205 0.085]\n",
      "landing prob P_19:  P_19= [0.696 0.210 0.093]\n",
      "landing prob P_20:  P_20= [0.683 0.215 0.101]\n",
      "landing prob P_1:  P_1= [0.981 0.976 0.043]\n",
      "landing prob P_2:  P_2= [0.963 0.954 0.084]\n",
      "landing prob P_3:  P_3= [0.944 0.932 0.124]\n",
      "landing prob P_4:  P_4= [0.927 0.911 0.162]\n",
      "landing prob P_5:  P_5= [0.909 0.891 0.200]\n",
      "landing prob P_6:  P_6= [0.892 0.872 0.236]\n",
      "landing prob P_7:  P_7= [0.875 0.854 0.271]\n",
      "landing prob P_8:  P_8= [0.859 0.836 0.305]\n",
      "landing prob P_9:  P_9= [0.842 0.820 0.338]\n",
      "landing prob P_10:  P_10= [0.827 0.804 0.370]\n",
      "landing prob P_11:  P_11= [0.811 0.788 0.401]\n",
      "landing prob P_12:  P_12= [0.796 0.773 0.431]\n",
      "landing prob P_13:  P_13= [0.781 0.759 0.460]\n",
      "landing prob P_14:  P_14= [0.766 0.746 0.488]\n",
      "landing prob P_15:  P_15= [0.751 0.733 0.516]\n",
      "landing prob P_16:  P_16= [0.737 0.720 0.543]\n",
      "landing prob P_17:  P_17= [0.723 0.708 0.569]\n",
      "landing prob P_18:  P_18= [0.710 0.696 0.594]\n",
      "landing prob P_19:  P_19= [0.696 0.685 0.618]\n",
      "landing prob P_20:  P_20= [0.683 0.675 0.642]\n",
      "landing prob P_1:  P_1= [0.981 0.985 1.034]\n",
      "landing prob P_2:  P_2= [0.963 0.970 1.067]\n",
      "landing prob P_3:  P_3= [0.944 0.957 1.099]\n",
      "landing prob P_4:  P_4= [0.927 0.943 1.130]\n",
      "landing prob P_5:  P_5= [0.909 0.930 1.161]\n",
      "landing prob P_6:  P_6= [0.892 0.918 1.190]\n",
      "landing prob P_7:  P_7= [0.875 0.906 1.219]\n",
      "landing prob P_8:  P_8= [0.859 0.894 1.247]\n",
      "landing prob P_9:  P_9= [0.842 0.883 1.274]\n",
      "landing prob P_10:  P_10= [0.827 0.872 1.301]\n",
      "landing prob P_11:  P_11= [0.811 0.862 1.327]\n",
      "landing prob P_12:  P_12= [0.796 0.852 1.352]\n",
      "landing prob P_13:  P_13= [0.781 0.843 1.377]\n",
      "landing prob P_14:  P_14= [0.766 0.833 1.401]\n",
      "landing prob P_15:  P_15= [0.751 0.824 1.424]\n",
      "landing prob P_16:  P_16= [0.737 0.816 1.447]\n",
      "landing prob P_17:  P_17= [0.723 0.807 1.469]\n",
      "landing prob P_18:  P_18= [0.710 0.799 1.491]\n",
      "landing prob P_19:  P_19= [0.696 0.792 1.512]\n",
      "landing prob P_20:  P_20= [0.683 0.784 1.533]\n"
     ]
    }
   ],
   "source": [
    "h=[1,2,3,4,5,6,7,8,9,10,11,12,13,14,15,16,17,18,19,20]\n",
    "initState= 0\n",
    "P0= np.zeros(NUM_BINS)\n",
    "P0[initState]= 1\n",
    "\n",
    "for i in range(NUM_BINS):\n",
    "    initState=i\n",
    "    P0[initState]=1\n",
    "    for j in h:\n",
    "        findLandingToConvergence(j,P0,trMatrixNVDA)"
   ]
  },
  {
   "cell_type": "code",
   "execution_count": 52,
   "id": "0d76fc50-7d0f-4a98-a7ae-18ad26a80dd7",
   "metadata": {},
   "outputs": [],
   "source": [
    "# Compartmentalize it. Don't think of anything else unless you can get the markov chain to predict the thing first, then compare.\n",
    "\n",
    "########\n",
    "# TODO\n",
    "#\n",
    "# Write a function that performs prediction using a markov chain.\n",
    "# For example, markovChainPrediction(...)\n",
    "#\n",
    "# h=[1,2,3,4,5,6,7,8,9,10]\n",
    "# P_0=[1, 0, 0] # this is the probabilities of it being in state at time step 0. We're initializing the start.\n",
    "#     transMatrix=normalizeMarkovMatrix(insertparametershere)\n",
    "# starting in state t where will i be?\n",
    "# P_i = landing probability.\n",
    "# return what the maximum P_i\n",
    "# check on if there's a \"python maximum position in array\" function\n",
    "     # np.argmin(values)\n",
    "# Algorithm for prediction using markov chain.\n",
    "# def markovChainPrediction(transMatrix, P_0, h, M):\n",
    "    \n",
    "#\n",
    "# 1.  select a time horizon for prediction, i.e. time steps h= 1,2,3,...10\n",
    "# initialize array, that time horizon will say how many times you mult trans matrix by itself\n",
    "# 2.  compute the h-step transition matrix M^{h}\n",
    "# select a time horizon (h) then compute M^(h) where M is a parameter in the code\n",
    "# 3.  obtain data structure containing Closing price measurements,  m_1, m_2,..., m_n\n",
    "# Dataframe or Series and then you just call it/segment it out\n",
    "# 4.  begin at position in price measurements,  m_i\n",
    "# Pick one closing price (he recommends doing it from the first one). He'd write a routine that does a prediction given a\n",
    "# measurement at some time step, then predict what this should be. \"Given this transition matrix and this time step,\"\n",
    "# \"what state does the Markov chain say it'd be in?\"\n",
    "# Write a fxn that says here's my dataframe and its position, at time step t, h steps later, where does the markov chain say\n",
    "# my state should be?\n",
    "# 5.  convert to state  S_i = checkState(m_i)\n",
    "# (see above)\n",
    "# 6.  set this as your landing distribution at time t0, namely P_0\n",
    "# The landing distribution is a vector that has as many positions as you have states. So P0 is prob of M being that state\n",
    "#at time t0.\n",
    "# 7.  compute the landing distribution after h-many time-steps, P_0 x M^{h}\n",
    "#\n",
    "# 8.  step #7 results in landing distribution P_h, find the state S_i with the max probability S_max\n",
    "#\n",
    "# 9.  Given your starting state S_i at m_i,  find the measurement h-steps away m_(i+h)\n",
    "#     and convert it to a state  S_(i+h) = checkState( m_(i+h) )\n",
    "#\n",
    "# 10. test if the predicted end state that the markov chain says  S_max == S_(i+h) \n",
    "#     If yes, then increment successes= sucesses+1\n",
    "#     if no, then increment failures= failures+1\n",
    "#\n",
    "# # For experiments, you're varying time steps (h), and the amount of states.\n",
    "# 11. Compute rate= successes/(successes + failure),  this is your generalization."
   ]
  },
  {
   "cell_type": "code",
   "execution_count": 53,
   "id": "fa2ccdfd",
   "metadata": {},
   "outputs": [],
   "source": [
    "from numpy.linalg import matrix_power\n",
    "def markovchainPrediction(startState, h, trMatrix):\n",
    "    P_0 = np.zeros(NUM_BINS)\n",
    "    P_0[startState] = 1.0\n",
    "    hStepTr = matrix_power(trMatrix,h)\n",
    "    P_i= np.matmul(P_0, hStepTr)\n",
    "    \n",
    "    return max(P_i)"
   ]
  },
  {
   "cell_type": "code",
   "execution_count": 54,
   "id": "094d9b53",
   "metadata": {},
   "outputs": [],
   "source": [
    "def evaluatePrediction(h, closingMatrix, trMatrix):\n",
    "    correct=0\n",
    "    incorrect=0\n",
    "    for t in range(len(h)):\n",
    "        startVal= closingMatrix[t]\n",
    "        startState = checkState(startVal)\n",
    "        for i in h:\n",
    "            if (t+i <= len(timeSeries -1)):\n",
    "                predEndState= markovchainPrediction(startState, i, trMatrix)\n",
    "                actualEndState= checkState(closingMatrix[t+i])\n",
    "                if(actualEndState == predLandState):\n",
    "                    correct=correct+ 1\n",
    "                else:\n",
    "                    incorrect= incorrect+1\n",
    "    return (correct, incorrect)\n",
    "# h=[1,2,3,4,5,6,7,8,9,10]\n",
    "# predictRate = correct/(correct+incorrect)"
   ]
  },
  {
   "cell_type": "code",
   "execution_count": null,
   "id": "473038eb",
   "metadata": {},
   "outputs": [],
   "source": []
  },
  {
   "cell_type": "code",
   "execution_count": null,
   "id": "d4fecd69",
   "metadata": {},
   "outputs": [],
   "source": []
  },
  {
   "cell_type": "code",
   "execution_count": null,
   "id": "bc9fe942",
   "metadata": {},
   "outputs": [],
   "source": []
  },
  {
   "cell_type": "code",
   "execution_count": null,
   "id": "0564a335",
   "metadata": {},
   "outputs": [],
   "source": []
  },
  {
   "cell_type": "code",
   "execution_count": null,
   "id": "19fda5cf",
   "metadata": {},
   "outputs": [],
   "source": []
  },
  {
   "cell_type": "code",
   "execution_count": 91,
   "id": "51567882",
   "metadata": {},
   "outputs": [],
   "source": [
    "#####\n",
    "# 2-year data from 11/12/2023 to 11/12/2024\n",
    "##\n",
    "FY2021_START='2021-01-01'\n",
    "FY2023_END='2023-11-13'\n",
    "\n",
    "FY2019_START='2019-01-01'\n",
    "\n",
    "appleTicker='AAPL'\n",
    "nvidiaTicker='NVDA'"
   ]
  },
  {
   "cell_type": "code",
   "execution_count": 92,
   "id": "b09327e6",
   "metadata": {},
   "outputs": [
    {
     "name": "stderr",
     "output_type": "stream",
     "text": [
      "[*********************100%***********************]  1 of 1 completed\n",
      "[*********************100%***********************]  1 of 1 completed\n"
     ]
    }
   ],
   "source": [
    "aaplData2= yf.download(nvidiaTicker, start=FY2021_START,end= FY2023_END)\n",
    "nvidiaData2= yf.download(nvidiaTicker, start=FY2021_START,end= FY2023_END)"
   ]
  },
  {
   "cell_type": "code",
   "execution_count": 93,
   "id": "5be6e405",
   "metadata": {},
   "outputs": [
    {
     "name": "stderr",
     "output_type": "stream",
     "text": [
      "[*********************100%***********************]  1 of 1 completed\n",
      "[*********************100%***********************]  1 of 1 completed\n"
     ]
    }
   ],
   "source": [
    "aaplData5= yf.download(nvidiaTicker, start=FY2019_START,end= FY2023_END)\n",
    "nvidiaData5= yf.download(nvidiaTicker, start=FY2019_START,end= FY2023_END)"
   ]
  },
  {
   "cell_type": "code",
   "execution_count": 94,
   "id": "dd313cbb",
   "metadata": {
    "scrolled": true
   },
   "outputs": [
    {
     "data": {
      "text/plain": [
       "0.0"
      ]
     },
     "execution_count": 94,
     "metadata": {},
     "output_type": "execute_result"
    }
   ],
   "source": [
    "markovchainPrediction(initState, 10, trMatrixAAPL2)\n",
    "markovchainPrediction(initState, 10, trMatrixAAPL5)"
   ]
  },
  {
   "cell_type": "code",
   "execution_count": 95,
   "id": "afc4940b",
   "metadata": {},
   "outputs": [
    {
     "ename": "TypeError",
     "evalue": "object of type 'int' has no len()",
     "output_type": "error",
     "traceback": [
      "\u001b[1;31m---------------------------------------------------------------------------\u001b[0m",
      "\u001b[1;31mTypeError\u001b[0m                                 Traceback (most recent call last)",
      "\u001b[1;32m~\\AppData\\Local\\Temp\\ipykernel_4420\\3511451794.py\u001b[0m in \u001b[0;36m<module>\u001b[1;34m\u001b[0m\n\u001b[1;32m----> 1\u001b[1;33m \u001b[0mgeneralize\u001b[0m\u001b[1;33m(\u001b[0m\u001b[0mNUM_BINS\u001b[0m\u001b[1;33m,\u001b[0m \u001b[1;36m10\u001b[0m\u001b[1;33m,\u001b[0m \u001b[0mnvidiaData2\u001b[0m\u001b[1;33m,\u001b[0m \u001b[0mtrMatrixNVDA2\u001b[0m\u001b[1;33m)\u001b[0m\u001b[1;33m\u001b[0m\u001b[1;33m\u001b[0m\u001b[0m\n\u001b[0m",
      "\u001b[1;32m~\\AppData\\Local\\Temp\\ipykernel_4420\\2389765749.py\u001b[0m in \u001b[0;36mgeneralize\u001b[1;34m(states, h, closingMatrix, trMatrix)\u001b[0m\n\u001b[0;32m      1\u001b[0m \u001b[1;32mdef\u001b[0m \u001b[0mgeneralize\u001b[0m\u001b[1;33m(\u001b[0m\u001b[0mstates\u001b[0m\u001b[1;33m,\u001b[0m \u001b[0mh\u001b[0m\u001b[1;33m,\u001b[0m \u001b[0mclosingMatrix\u001b[0m\u001b[1;33m,\u001b[0m\u001b[0mtrMatrix\u001b[0m\u001b[1;33m)\u001b[0m\u001b[1;33m:\u001b[0m\u001b[1;33m\u001b[0m\u001b[1;33m\u001b[0m\u001b[0m\n\u001b[1;32m----> 2\u001b[1;33m         \u001b[0mcorrect\u001b[0m\u001b[1;33m=\u001b[0m\u001b[0mevaluatePrediction\u001b[0m\u001b[1;33m(\u001b[0m\u001b[0mh\u001b[0m\u001b[1;33m,\u001b[0m \u001b[0mclosingMatrix\u001b[0m\u001b[1;33m,\u001b[0m \u001b[0mtrMatrix\u001b[0m\u001b[1;33m)\u001b[0m\u001b[1;33m[\u001b[0m\u001b[1;36m0\u001b[0m\u001b[1;33m]\u001b[0m\u001b[1;33m\u001b[0m\u001b[1;33m\u001b[0m\u001b[0m\n\u001b[0m\u001b[0;32m      3\u001b[0m         \u001b[0mincorrect\u001b[0m\u001b[1;33m=\u001b[0m\u001b[0mevaluatePrediction\u001b[0m\u001b[1;33m(\u001b[0m\u001b[0mh\u001b[0m\u001b[1;33m,\u001b[0m \u001b[0mclosingMatrix\u001b[0m\u001b[1;33m,\u001b[0m \u001b[0mtrMatrix\u001b[0m\u001b[1;33m)\u001b[0m\u001b[1;33m[\u001b[0m\u001b[1;36m1\u001b[0m\u001b[1;33m]\u001b[0m\u001b[1;33m\u001b[0m\u001b[1;33m\u001b[0m\u001b[0m\n\u001b[0;32m      4\u001b[0m         \u001b[0mpredictRate\u001b[0m \u001b[1;33m=\u001b[0m \u001b[0mcorrect\u001b[0m\u001b[1;33m/\u001b[0m\u001b[1;33m(\u001b[0m\u001b[0mcorrect\u001b[0m\u001b[1;33m+\u001b[0m\u001b[0mincorrect\u001b[0m\u001b[1;33m)\u001b[0m\u001b[1;33m\u001b[0m\u001b[1;33m\u001b[0m\u001b[0m\n\u001b[0;32m      5\u001b[0m         \u001b[1;32mreturn\u001b[0m \u001b[0mpredictRate\u001b[0m\u001b[1;33m\u001b[0m\u001b[1;33m\u001b[0m\u001b[0m\n",
      "\u001b[1;32m~\\AppData\\Local\\Temp\\ipykernel_4420\\546560631.py\u001b[0m in \u001b[0;36mevaluatePrediction\u001b[1;34m(h, closingMatrix, trMatrix)\u001b[0m\n\u001b[0;32m      2\u001b[0m     \u001b[0mcorrect\u001b[0m\u001b[1;33m=\u001b[0m\u001b[1;36m0\u001b[0m\u001b[1;33m\u001b[0m\u001b[1;33m\u001b[0m\u001b[0m\n\u001b[0;32m      3\u001b[0m     \u001b[0mincorrect\u001b[0m\u001b[1;33m=\u001b[0m\u001b[1;36m0\u001b[0m\u001b[1;33m\u001b[0m\u001b[1;33m\u001b[0m\u001b[0m\n\u001b[1;32m----> 4\u001b[1;33m     \u001b[1;32mfor\u001b[0m \u001b[0mt\u001b[0m \u001b[1;32min\u001b[0m \u001b[0mrange\u001b[0m\u001b[1;33m(\u001b[0m\u001b[0mlen\u001b[0m\u001b[1;33m(\u001b[0m\u001b[0mh\u001b[0m\u001b[1;33m)\u001b[0m\u001b[1;33m)\u001b[0m\u001b[1;33m:\u001b[0m\u001b[1;33m\u001b[0m\u001b[1;33m\u001b[0m\u001b[0m\n\u001b[0m\u001b[0;32m      5\u001b[0m         \u001b[0mstartVal\u001b[0m\u001b[1;33m=\u001b[0m \u001b[0mclosingMatrix\u001b[0m\u001b[1;33m[\u001b[0m\u001b[0mt\u001b[0m\u001b[1;33m]\u001b[0m\u001b[1;33m\u001b[0m\u001b[1;33m\u001b[0m\u001b[0m\n\u001b[0;32m      6\u001b[0m         \u001b[0mstartState\u001b[0m \u001b[1;33m=\u001b[0m \u001b[0mcheckState\u001b[0m\u001b[1;33m(\u001b[0m\u001b[0mstartVal\u001b[0m\u001b[1;33m)\u001b[0m\u001b[1;33m\u001b[0m\u001b[1;33m\u001b[0m\u001b[0m\n",
      "\u001b[1;31mTypeError\u001b[0m: object of type 'int' has no len()"
     ]
    }
   ],
   "source": [
    "generalize(NUM_BINS, 10, nvidiaData2, trMatrixNVDA2)"
   ]
  },
  {
   "cell_type": "code",
   "execution_count": 96,
   "id": "50c0a142",
   "metadata": {},
   "outputs": [
    {
     "ename": "TypeError",
     "evalue": "object of type 'int' has no len()",
     "output_type": "error",
     "traceback": [
      "\u001b[1;31m---------------------------------------------------------------------------\u001b[0m",
      "\u001b[1;31mTypeError\u001b[0m                                 Traceback (most recent call last)",
      "\u001b[1;32m~\\AppData\\Local\\Temp\\ipykernel_4420\\3852845725.py\u001b[0m in \u001b[0;36m<module>\u001b[1;34m\u001b[0m\n\u001b[1;32m----> 1\u001b[1;33m \u001b[0mgeneralize\u001b[0m\u001b[1;33m(\u001b[0m\u001b[0mNUM_BINS\u001b[0m\u001b[1;33m,\u001b[0m \u001b[1;36m10\u001b[0m\u001b[1;33m,\u001b[0m \u001b[0mnvidiaData5\u001b[0m\u001b[1;33m,\u001b[0m \u001b[0mtrMatrixNVDA5\u001b[0m\u001b[1;33m)\u001b[0m\u001b[1;33m\u001b[0m\u001b[1;33m\u001b[0m\u001b[0m\n\u001b[0m",
      "\u001b[1;32m~\\AppData\\Local\\Temp\\ipykernel_4420\\2389765749.py\u001b[0m in \u001b[0;36mgeneralize\u001b[1;34m(states, h, closingMatrix, trMatrix)\u001b[0m\n\u001b[0;32m      1\u001b[0m \u001b[1;32mdef\u001b[0m \u001b[0mgeneralize\u001b[0m\u001b[1;33m(\u001b[0m\u001b[0mstates\u001b[0m\u001b[1;33m,\u001b[0m \u001b[0mh\u001b[0m\u001b[1;33m,\u001b[0m \u001b[0mclosingMatrix\u001b[0m\u001b[1;33m,\u001b[0m\u001b[0mtrMatrix\u001b[0m\u001b[1;33m)\u001b[0m\u001b[1;33m:\u001b[0m\u001b[1;33m\u001b[0m\u001b[1;33m\u001b[0m\u001b[0m\n\u001b[1;32m----> 2\u001b[1;33m         \u001b[0mcorrect\u001b[0m\u001b[1;33m=\u001b[0m\u001b[0mevaluatePrediction\u001b[0m\u001b[1;33m(\u001b[0m\u001b[0mh\u001b[0m\u001b[1;33m,\u001b[0m \u001b[0mclosingMatrix\u001b[0m\u001b[1;33m,\u001b[0m \u001b[0mtrMatrix\u001b[0m\u001b[1;33m)\u001b[0m\u001b[1;33m[\u001b[0m\u001b[1;36m0\u001b[0m\u001b[1;33m]\u001b[0m\u001b[1;33m\u001b[0m\u001b[1;33m\u001b[0m\u001b[0m\n\u001b[0m\u001b[0;32m      3\u001b[0m         \u001b[0mincorrect\u001b[0m\u001b[1;33m=\u001b[0m\u001b[0mevaluatePrediction\u001b[0m\u001b[1;33m(\u001b[0m\u001b[0mh\u001b[0m\u001b[1;33m,\u001b[0m \u001b[0mclosingMatrix\u001b[0m\u001b[1;33m,\u001b[0m \u001b[0mtrMatrix\u001b[0m\u001b[1;33m)\u001b[0m\u001b[1;33m[\u001b[0m\u001b[1;36m1\u001b[0m\u001b[1;33m]\u001b[0m\u001b[1;33m\u001b[0m\u001b[1;33m\u001b[0m\u001b[0m\n\u001b[0;32m      4\u001b[0m         \u001b[0mpredictRate\u001b[0m \u001b[1;33m=\u001b[0m \u001b[0mcorrect\u001b[0m\u001b[1;33m/\u001b[0m\u001b[1;33m(\u001b[0m\u001b[0mcorrect\u001b[0m\u001b[1;33m+\u001b[0m\u001b[0mincorrect\u001b[0m\u001b[1;33m)\u001b[0m\u001b[1;33m\u001b[0m\u001b[1;33m\u001b[0m\u001b[0m\n\u001b[0;32m      5\u001b[0m         \u001b[1;32mreturn\u001b[0m \u001b[0mpredictRate\u001b[0m\u001b[1;33m\u001b[0m\u001b[1;33m\u001b[0m\u001b[0m\n",
      "\u001b[1;32m~\\AppData\\Local\\Temp\\ipykernel_4420\\546560631.py\u001b[0m in \u001b[0;36mevaluatePrediction\u001b[1;34m(h, closingMatrix, trMatrix)\u001b[0m\n\u001b[0;32m      2\u001b[0m     \u001b[0mcorrect\u001b[0m\u001b[1;33m=\u001b[0m\u001b[1;36m0\u001b[0m\u001b[1;33m\u001b[0m\u001b[1;33m\u001b[0m\u001b[0m\n\u001b[0;32m      3\u001b[0m     \u001b[0mincorrect\u001b[0m\u001b[1;33m=\u001b[0m\u001b[1;36m0\u001b[0m\u001b[1;33m\u001b[0m\u001b[1;33m\u001b[0m\u001b[0m\n\u001b[1;32m----> 4\u001b[1;33m     \u001b[1;32mfor\u001b[0m \u001b[0mt\u001b[0m \u001b[1;32min\u001b[0m \u001b[0mrange\u001b[0m\u001b[1;33m(\u001b[0m\u001b[0mlen\u001b[0m\u001b[1;33m(\u001b[0m\u001b[0mh\u001b[0m\u001b[1;33m)\u001b[0m\u001b[1;33m)\u001b[0m\u001b[1;33m:\u001b[0m\u001b[1;33m\u001b[0m\u001b[1;33m\u001b[0m\u001b[0m\n\u001b[0m\u001b[0;32m      5\u001b[0m         \u001b[0mstartVal\u001b[0m\u001b[1;33m=\u001b[0m \u001b[0mclosingMatrix\u001b[0m\u001b[1;33m[\u001b[0m\u001b[0mt\u001b[0m\u001b[1;33m]\u001b[0m\u001b[1;33m\u001b[0m\u001b[1;33m\u001b[0m\u001b[0m\n\u001b[0;32m      6\u001b[0m         \u001b[0mstartState\u001b[0m \u001b[1;33m=\u001b[0m \u001b[0mcheckState\u001b[0m\u001b[1;33m(\u001b[0m\u001b[0mstartVal\u001b[0m\u001b[1;33m)\u001b[0m\u001b[1;33m\u001b[0m\u001b[1;33m\u001b[0m\u001b[0m\n",
      "\u001b[1;31mTypeError\u001b[0m: object of type 'int' has no len()"
     ]
    }
   ],
   "source": [
    "generalize(NUM_BINS, 10, nvidiaData5, trMatrixNVDA5)"
   ]
  },
  {
   "cell_type": "code",
   "execution_count": 97,
   "id": "620f3b54",
   "metadata": {},
   "outputs": [],
   "source": [
    "def generalize(states, h, closingMatrix,trMatrix):\n",
    "        correct=evaluatePrediction(h, closingMatrix, trMatrix)[0]\n",
    "        incorrect=evaluatePrediction(h, closingMatrix, trMatrix)[1]\n",
    "        predictRate = correct/(correct+incorrect)\n",
    "        return predictRate"
   ]
  },
  {
   "cell_type": "code",
   "execution_count": 98,
   "id": "f765d6a4",
   "metadata": {},
   "outputs": [],
   "source": [
    "# 2 years\n",
    "df_aapl_close2 = aaplData2['Close']\n",
    "# 2 years\n",
    "df_nvidia_close2= nvidiaData2['Close']\n",
    "\n",
    "# 5 years\n",
    "df_aapl_close5 = aaplData5['Close']\n",
    "# 5 years\n",
    "df_nvidia_close5= nvidiaData5['Close']"
   ]
  },
  {
   "cell_type": "code",
   "execution_count": 99,
   "id": "1ad0e5c4",
   "metadata": {},
   "outputs": [],
   "source": [
    "NUM_BINS= 10"
   ]
  },
  {
   "cell_type": "code",
   "execution_count": null,
   "id": "ea86f674",
   "metadata": {},
   "outputs": [],
   "source": [
    "# heres the whole process he does with each closing price thing\n",
    "# i did everything below with the 2 year and 5 year closing prices, i just dont know where to go from there\n",
    "\n",
    "    #binCountsAAPL2, binEdgesAAPL2, patchesAAPL2= plt.hist(df_aapl_close2,NUM_BINS)\n",
    "    #binCountsAAPL5, binEdgesAAPL5, patchesAAPL5= plt.hist(df_aapl_close5,NUM_BINS)\n",
    "    \n",
    "    #binCountsNVDA2, binEdgesNVDA2, patchesNVDA2= plt.hist(df_nvidia_close2,NUM_BINS)\n",
    "    #binCountsNVDA5, binEdgesNVDA5, patchesNVDA5= plt.hist(df_nvidia_close5,NUM_BINS)\n",
    "    \n",
    "    #trMatrixAAPL2= np.zeros((numStates,numStates),dtype=np.float64)\n",
    "    #trMatrixNVDA2= np.zeros((numStates,numStates),dtype=np.float64)\n",
    "    \n",
    "    #trMatrixAAPL5= np.zeros((numStates,numStates),dtype=np.float64)\n",
    "    #trMatrixNVDA5= np.zeros((numStates,numStates),dtype=np.float64)\n",
    "    \n",
    "    #buildMarkovMatrix(trMatrixAAPL2, df_aapl_close2, binEdgesAAPL2)\n",
    "    #buildMarkovMatrix(trMatrixAAPL5, df_aapl_close5, binEdgesAAPL5)\n",
    "    \n",
    "    #normalizeMarkovMatrix(trMatrixAAPL2)\n",
    "    #normalizeMarkovMatrix(trMatrixAAPL5)\n",
    "    \n",
    "    #buildMarkovMatrix(trMatrixNVDA2, df_nvidia_close2, binEdgesNVDA2)\n",
    "    #buildMarkovMatrix(trMatrixNVDA5, df_nvidia_close5, binEdgesNVDA5)\n",
    "    \n",
    "    #normalizeMarkovMatrix(trMatrixNVDA2)\n",
    "    #normalizeMarkovMatrix(trMatrixNVDA5)\n",
    "    \n",
    "    #PiA2= findLandingToConvergence(100,P0,trMatrixAAPL2)\n",
    "    #PiA5= findLandingToConvergence(100,P0,trMatrixAAPL5)\n",
    "    \n",
    "    #PiN2= findLandingToConvergence(100,P0,trMatrixNVDA2)\n",
    "    #PiN5= findLandingToConvergence(100,P0,trMatrixNVDA5)\n",
    "\n",
    "# \"tHINKING CORRECTLY BUT NOT ABSTRACTING IT\"\n",
    "# write a fxn to ask it to do this stuff. think about using a for loop or smth to get that\n",
    "# it's functionally correct, but it's inefficient. can replace all of this junk with our new function we're making."
   ]
  },
  {
   "cell_type": "code",
   "execution_count": null,
   "id": "55fcc157",
   "metadata": {},
   "outputs": [],
   "source": [
    "plt.figure(3)\n",
    "plt.title('Apple stock distribution')\n",
    "binCountsAAPL2, binEdgesAAPL2, patchesAAPL2= plt.hist(df_aapl_close2,NUM_BINS)"
   ]
  },
  {
   "cell_type": "code",
   "execution_count": null,
   "id": "b4262e95",
   "metadata": {},
   "outputs": [],
   "source": [
    "binCountsAAPL5, binEdgesAAPL5, patchesAAPL5= plt.hist(df_aapl_close5,NUM_BINS)"
   ]
  },
  {
   "cell_type": "code",
   "execution_count": null,
   "id": "d5a73ac1",
   "metadata": {},
   "outputs": [],
   "source": [
    "print(checkState(20, binEdgesAAPL2))\n",
    "print(checkState(20, binEdgesAAPL5))"
   ]
  },
  {
   "cell_type": "code",
   "execution_count": null,
   "id": "8f15f81e",
   "metadata": {},
   "outputs": [],
   "source": [
    "plt.figure(2)\n",
    "plt.title('NVIDIA stock distribution')\n",
    "binCountsNVDA2, binEdgesNVDA2, patchesNVDA2= plt.hist(df_nvidia_close2,NUM_BINS)"
   ]
  },
  {
   "cell_type": "code",
   "execution_count": null,
   "id": "a7c5e378",
   "metadata": {},
   "outputs": [],
   "source": [
    "binCountsNVDA5, binEdgesNVDA5, patchesNVDA5= plt.hist(df_nvidia_close5,NUM_BINS)"
   ]
  },
  {
   "cell_type": "code",
   "execution_count": null,
   "id": "26d5234e",
   "metadata": {},
   "outputs": [],
   "source": [
    "print(checkState(40, binEdgesNVDA2))\n",
    "print(checkState(40, binEdgesNVDA5))"
   ]
  },
  {
   "cell_type": "code",
   "execution_count": null,
   "id": "783754e6",
   "metadata": {},
   "outputs": [],
   "source": [
    "numStates= len(binEdgesAAPL2)-1\n",
    "numStates"
   ]
  },
  {
   "cell_type": "code",
   "execution_count": 67,
   "id": "5a1cdedf",
   "metadata": {},
   "outputs": [],
   "source": [
    "trMatrixAAPL2= np.zeros((numStates,numStates),dtype=np.float64)\n",
    "trMatrixAAPL5= np.zeros((numStates,numStates),dtype=np.float64)\n",
    "trMatrixNVDA2= np.zeros((numStates,numStates),dtype=np.float64)\n",
    "trMatrixNVDA5= np.zeros((numStates,numStates),dtype=np.float64)"
   ]
  },
  {
   "cell_type": "code",
   "execution_count": 68,
   "id": "dc59def7",
   "metadata": {},
   "outputs": [
    {
     "name": "stdout",
     "output_type": "stream",
     "text": [
      "buildMarkovMatrix:  price=NVDA\n"
     ]
    },
    {
     "ename": "UFuncTypeError",
     "evalue": "ufunc 'less_equal' did not contain a loop with signature matching types (<class 'numpy.dtypes.Float64DType'>, <class 'numpy.dtypes.StrDType'>) -> None",
     "output_type": "error",
     "traceback": [
      "\u001b[1;31m---------------------------------------------------------------------------\u001b[0m",
      "\u001b[1;31mUFuncTypeError\u001b[0m                            Traceback (most recent call last)",
      "\u001b[1;32m~\\AppData\\Local\\Temp\\ipykernel_4420\\1245745425.py\u001b[0m in \u001b[0;36m<module>\u001b[1;34m\u001b[0m\n\u001b[1;32m----> 1\u001b[1;33m \u001b[0mbuildMarkovMatrix\u001b[0m\u001b[1;33m(\u001b[0m\u001b[0mtrMatrixAAPL2\u001b[0m\u001b[1;33m,\u001b[0m \u001b[0mdf_aapl_close2\u001b[0m\u001b[1;33m,\u001b[0m \u001b[0mbinEdgesAAPL\u001b[0m\u001b[1;33m)\u001b[0m\u001b[1;33m\u001b[0m\u001b[1;33m\u001b[0m\u001b[0m\n\u001b[0m",
      "\u001b[1;32m~\\AppData\\Local\\Temp\\ipykernel_4420\\3607681472.py\u001b[0m in \u001b[0;36mbuildMarkovMatrix\u001b[1;34m(trMatrix, df_data, binEdges)\u001b[0m\n\u001b[0;32m      8\u001b[0m         \u001b[0mprint\u001b[0m\u001b[1;33m(\u001b[0m\u001b[1;34mf'buildMarkovMatrix:  price={price}'\u001b[0m\u001b[1;33m)\u001b[0m\u001b[1;33m\u001b[0m\u001b[1;33m\u001b[0m\u001b[0m\n\u001b[0;32m      9\u001b[0m         \u001b[1;32mif\u001b[0m\u001b[1;33m(\u001b[0m\u001b[0mfirstTime\u001b[0m\u001b[1;33m)\u001b[0m\u001b[1;33m:\u001b[0m\u001b[1;33m\u001b[0m\u001b[1;33m\u001b[0m\u001b[0m\n\u001b[1;32m---> 10\u001b[1;33m             \u001b[0msNext\u001b[0m\u001b[1;33m=\u001b[0m \u001b[0mcheckState\u001b[0m\u001b[1;33m(\u001b[0m\u001b[0mprice\u001b[0m\u001b[1;33m,\u001b[0m \u001b[0mbinEdges\u001b[0m\u001b[1;33m)\u001b[0m\u001b[1;33m\u001b[0m\u001b[1;33m\u001b[0m\u001b[0m\n\u001b[0m\u001b[0;32m     11\u001b[0m             \u001b[0msCurr\u001b[0m\u001b[1;33m=\u001b[0m \u001b[0msNext\u001b[0m\u001b[1;33m\u001b[0m\u001b[1;33m\u001b[0m\u001b[0m\n\u001b[0;32m     12\u001b[0m             \u001b[0mfirstTime\u001b[0m\u001b[1;33m=\u001b[0m \u001b[1;32mFalse\u001b[0m\u001b[1;33m\u001b[0m\u001b[1;33m\u001b[0m\u001b[0m\n",
      "\u001b[1;32m~\\AppData\\Local\\Temp\\ipykernel_4420\\3884104036.py\u001b[0m in \u001b[0;36mcheckState\u001b[1;34m(closingPrice, binEdges)\u001b[0m\n\u001b[0;32m     21\u001b[0m \u001b[1;33m\u001b[0m\u001b[0m\n\u001b[0;32m     22\u001b[0m         \u001b[1;32mif\u001b[0m \u001b[1;33m(\u001b[0m\u001b[0me\u001b[0m \u001b[1;33m!=\u001b[0m \u001b[0mlen\u001b[0m\u001b[1;33m(\u001b[0m\u001b[0mbinEdges\u001b[0m\u001b[1;33m)\u001b[0m\u001b[1;33m-\u001b[0m\u001b[1;36m2\u001b[0m\u001b[1;33m)\u001b[0m\u001b[1;33m:\u001b[0m\u001b[1;33m\u001b[0m\u001b[1;33m\u001b[0m\u001b[0m\n\u001b[1;32m---> 23\u001b[1;33m             \u001b[1;32mif\u001b[0m \u001b[1;33m(\u001b[0m\u001b[0mclosingPrice\u001b[0m \u001b[1;33m>=\u001b[0m \u001b[0mleftEdge\u001b[0m\u001b[1;33m)\u001b[0m \u001b[1;33m&\u001b[0m \u001b[1;33m(\u001b[0m\u001b[0mclosingPrice\u001b[0m \u001b[1;33m<\u001b[0m \u001b[0mrightEdge\u001b[0m\u001b[1;33m)\u001b[0m\u001b[1;33m:\u001b[0m\u001b[1;33m\u001b[0m\u001b[1;33m\u001b[0m\u001b[0m\n\u001b[0m\u001b[0;32m     24\u001b[0m                 \u001b[0mstateValue\u001b[0m\u001b[1;33m=\u001b[0m \u001b[0me\u001b[0m\u001b[1;33m\u001b[0m\u001b[1;33m\u001b[0m\u001b[0m\n\u001b[0;32m     25\u001b[0m                 \u001b[1;32mbreak\u001b[0m\u001b[1;33m\u001b[0m\u001b[1;33m\u001b[0m\u001b[0m\n",
      "\u001b[1;31mUFuncTypeError\u001b[0m: ufunc 'less_equal' did not contain a loop with signature matching types (<class 'numpy.dtypes.Float64DType'>, <class 'numpy.dtypes.StrDType'>) -> None"
     ]
    }
   ],
   "source": [
    "buildMarkovMatrix(trMatrixAAPL2, df_aapl_close2, binEdgesAAPL)"
   ]
  },
  {
   "cell_type": "code",
   "execution_count": 69,
   "id": "54ca2704",
   "metadata": {},
   "outputs": [
    {
     "data": {
      "text/plain": [
       "array([[0.000, 0.000, 0.000],\n",
       "       [0.000, 0.000, 0.000],\n",
       "       [0.000, 0.000, 0.000]])"
      ]
     },
     "execution_count": 69,
     "metadata": {},
     "output_type": "execute_result"
    }
   ],
   "source": [
    "trMatrixAAPL2"
   ]
  },
  {
   "cell_type": "code",
   "execution_count": 70,
   "id": "0f3fd414",
   "metadata": {},
   "outputs": [
    {
     "data": {
      "text/plain": [
       "array([[0.000, 0.000, 0.000],\n",
       "       [0.000, 0.000, 0.000],\n",
       "       [0.000, 0.000, 0.000]])"
      ]
     },
     "execution_count": 70,
     "metadata": {},
     "output_type": "execute_result"
    }
   ],
   "source": [
    "normalizeMarkovMatrix(trMatrixAAPL2)"
   ]
  },
  {
   "cell_type": "code",
   "execution_count": 71,
   "id": "2b9e86d5",
   "metadata": {},
   "outputs": [
    {
     "name": "stdout",
     "output_type": "stream",
     "text": [
      "buildMarkovMatrix:  price=NVDA\n"
     ]
    },
    {
     "ename": "UFuncTypeError",
     "evalue": "ufunc 'less_equal' did not contain a loop with signature matching types (<class 'numpy.dtypes.Float64DType'>, <class 'numpy.dtypes.StrDType'>) -> None",
     "output_type": "error",
     "traceback": [
      "\u001b[1;31m---------------------------------------------------------------------------\u001b[0m",
      "\u001b[1;31mUFuncTypeError\u001b[0m                            Traceback (most recent call last)",
      "\u001b[1;32m~\\AppData\\Local\\Temp\\ipykernel_4420\\86883726.py\u001b[0m in \u001b[0;36m<module>\u001b[1;34m\u001b[0m\n\u001b[1;32m----> 1\u001b[1;33m \u001b[0mbuildMarkovMatrix\u001b[0m\u001b[1;33m(\u001b[0m\u001b[0mtrMatrixAAPL5\u001b[0m\u001b[1;33m,\u001b[0m \u001b[0mdf_aapl_close5\u001b[0m\u001b[1;33m,\u001b[0m \u001b[0mbinEdgesAAPL\u001b[0m\u001b[1;33m)\u001b[0m\u001b[1;33m\u001b[0m\u001b[1;33m\u001b[0m\u001b[0m\n\u001b[0m",
      "\u001b[1;32m~\\AppData\\Local\\Temp\\ipykernel_4420\\3607681472.py\u001b[0m in \u001b[0;36mbuildMarkovMatrix\u001b[1;34m(trMatrix, df_data, binEdges)\u001b[0m\n\u001b[0;32m      8\u001b[0m         \u001b[0mprint\u001b[0m\u001b[1;33m(\u001b[0m\u001b[1;34mf'buildMarkovMatrix:  price={price}'\u001b[0m\u001b[1;33m)\u001b[0m\u001b[1;33m\u001b[0m\u001b[1;33m\u001b[0m\u001b[0m\n\u001b[0;32m      9\u001b[0m         \u001b[1;32mif\u001b[0m\u001b[1;33m(\u001b[0m\u001b[0mfirstTime\u001b[0m\u001b[1;33m)\u001b[0m\u001b[1;33m:\u001b[0m\u001b[1;33m\u001b[0m\u001b[1;33m\u001b[0m\u001b[0m\n\u001b[1;32m---> 10\u001b[1;33m             \u001b[0msNext\u001b[0m\u001b[1;33m=\u001b[0m \u001b[0mcheckState\u001b[0m\u001b[1;33m(\u001b[0m\u001b[0mprice\u001b[0m\u001b[1;33m,\u001b[0m \u001b[0mbinEdges\u001b[0m\u001b[1;33m)\u001b[0m\u001b[1;33m\u001b[0m\u001b[1;33m\u001b[0m\u001b[0m\n\u001b[0m\u001b[0;32m     11\u001b[0m             \u001b[0msCurr\u001b[0m\u001b[1;33m=\u001b[0m \u001b[0msNext\u001b[0m\u001b[1;33m\u001b[0m\u001b[1;33m\u001b[0m\u001b[0m\n\u001b[0;32m     12\u001b[0m             \u001b[0mfirstTime\u001b[0m\u001b[1;33m=\u001b[0m \u001b[1;32mFalse\u001b[0m\u001b[1;33m\u001b[0m\u001b[1;33m\u001b[0m\u001b[0m\n",
      "\u001b[1;32m~\\AppData\\Local\\Temp\\ipykernel_4420\\3884104036.py\u001b[0m in \u001b[0;36mcheckState\u001b[1;34m(closingPrice, binEdges)\u001b[0m\n\u001b[0;32m     21\u001b[0m \u001b[1;33m\u001b[0m\u001b[0m\n\u001b[0;32m     22\u001b[0m         \u001b[1;32mif\u001b[0m \u001b[1;33m(\u001b[0m\u001b[0me\u001b[0m \u001b[1;33m!=\u001b[0m \u001b[0mlen\u001b[0m\u001b[1;33m(\u001b[0m\u001b[0mbinEdges\u001b[0m\u001b[1;33m)\u001b[0m\u001b[1;33m-\u001b[0m\u001b[1;36m2\u001b[0m\u001b[1;33m)\u001b[0m\u001b[1;33m:\u001b[0m\u001b[1;33m\u001b[0m\u001b[1;33m\u001b[0m\u001b[0m\n\u001b[1;32m---> 23\u001b[1;33m             \u001b[1;32mif\u001b[0m \u001b[1;33m(\u001b[0m\u001b[0mclosingPrice\u001b[0m \u001b[1;33m>=\u001b[0m \u001b[0mleftEdge\u001b[0m\u001b[1;33m)\u001b[0m \u001b[1;33m&\u001b[0m \u001b[1;33m(\u001b[0m\u001b[0mclosingPrice\u001b[0m \u001b[1;33m<\u001b[0m \u001b[0mrightEdge\u001b[0m\u001b[1;33m)\u001b[0m\u001b[1;33m:\u001b[0m\u001b[1;33m\u001b[0m\u001b[1;33m\u001b[0m\u001b[0m\n\u001b[0m\u001b[0;32m     24\u001b[0m                 \u001b[0mstateValue\u001b[0m\u001b[1;33m=\u001b[0m \u001b[0me\u001b[0m\u001b[1;33m\u001b[0m\u001b[1;33m\u001b[0m\u001b[0m\n\u001b[0;32m     25\u001b[0m                 \u001b[1;32mbreak\u001b[0m\u001b[1;33m\u001b[0m\u001b[1;33m\u001b[0m\u001b[0m\n",
      "\u001b[1;31mUFuncTypeError\u001b[0m: ufunc 'less_equal' did not contain a loop with signature matching types (<class 'numpy.dtypes.Float64DType'>, <class 'numpy.dtypes.StrDType'>) -> None"
     ]
    }
   ],
   "source": [
    "buildMarkovMatrix(trMatrixAAPL5, df_aapl_close5, binEdgesAAPL)"
   ]
  },
  {
   "cell_type": "code",
   "execution_count": 72,
   "id": "b8099359",
   "metadata": {},
   "outputs": [
    {
     "data": {
      "text/plain": [
       "array([[0.000, 0.000, 0.000],\n",
       "       [0.000, 0.000, 0.000],\n",
       "       [0.000, 0.000, 0.000]])"
      ]
     },
     "execution_count": 72,
     "metadata": {},
     "output_type": "execute_result"
    }
   ],
   "source": [
    "trMatrixAAPL5"
   ]
  },
  {
   "cell_type": "code",
   "execution_count": 73,
   "id": "e6fd771b",
   "metadata": {},
   "outputs": [
    {
     "data": {
      "text/plain": [
       "array([[0.000, 0.000, 0.000],\n",
       "       [0.000, 0.000, 0.000],\n",
       "       [0.000, 0.000, 0.000]])"
      ]
     },
     "execution_count": 73,
     "metadata": {},
     "output_type": "execute_result"
    }
   ],
   "source": [
    "normalizeMarkovMatrix(trMatrixAAPL5)"
   ]
  },
  {
   "cell_type": "code",
   "execution_count": 74,
   "id": "0bb288ff",
   "metadata": {},
   "outputs": [
    {
     "name": "stdout",
     "output_type": "stream",
     "text": [
      "buildMarkovMatrix:  price=NVDA\n"
     ]
    },
    {
     "ename": "UFuncTypeError",
     "evalue": "ufunc 'less_equal' did not contain a loop with signature matching types (<class 'numpy.dtypes.Float64DType'>, <class 'numpy.dtypes.StrDType'>) -> None",
     "output_type": "error",
     "traceback": [
      "\u001b[1;31m---------------------------------------------------------------------------\u001b[0m",
      "\u001b[1;31mUFuncTypeError\u001b[0m                            Traceback (most recent call last)",
      "\u001b[1;32m~\\AppData\\Local\\Temp\\ipykernel_4420\\184281245.py\u001b[0m in \u001b[0;36m<module>\u001b[1;34m\u001b[0m\n\u001b[1;32m----> 1\u001b[1;33m \u001b[0mbuildMarkovMatrix\u001b[0m\u001b[1;33m(\u001b[0m\u001b[0mtrMatrixNVDA2\u001b[0m\u001b[1;33m,\u001b[0m \u001b[0mdf_nvidia_close2\u001b[0m\u001b[1;33m,\u001b[0m \u001b[0mbinEdgesNVDA\u001b[0m\u001b[1;33m)\u001b[0m\u001b[1;33m\u001b[0m\u001b[1;33m\u001b[0m\u001b[0m\n\u001b[0m",
      "\u001b[1;32m~\\AppData\\Local\\Temp\\ipykernel_4420\\3607681472.py\u001b[0m in \u001b[0;36mbuildMarkovMatrix\u001b[1;34m(trMatrix, df_data, binEdges)\u001b[0m\n\u001b[0;32m      8\u001b[0m         \u001b[0mprint\u001b[0m\u001b[1;33m(\u001b[0m\u001b[1;34mf'buildMarkovMatrix:  price={price}'\u001b[0m\u001b[1;33m)\u001b[0m\u001b[1;33m\u001b[0m\u001b[1;33m\u001b[0m\u001b[0m\n\u001b[0;32m      9\u001b[0m         \u001b[1;32mif\u001b[0m\u001b[1;33m(\u001b[0m\u001b[0mfirstTime\u001b[0m\u001b[1;33m)\u001b[0m\u001b[1;33m:\u001b[0m\u001b[1;33m\u001b[0m\u001b[1;33m\u001b[0m\u001b[0m\n\u001b[1;32m---> 10\u001b[1;33m             \u001b[0msNext\u001b[0m\u001b[1;33m=\u001b[0m \u001b[0mcheckState\u001b[0m\u001b[1;33m(\u001b[0m\u001b[0mprice\u001b[0m\u001b[1;33m,\u001b[0m \u001b[0mbinEdges\u001b[0m\u001b[1;33m)\u001b[0m\u001b[1;33m\u001b[0m\u001b[1;33m\u001b[0m\u001b[0m\n\u001b[0m\u001b[0;32m     11\u001b[0m             \u001b[0msCurr\u001b[0m\u001b[1;33m=\u001b[0m \u001b[0msNext\u001b[0m\u001b[1;33m\u001b[0m\u001b[1;33m\u001b[0m\u001b[0m\n\u001b[0;32m     12\u001b[0m             \u001b[0mfirstTime\u001b[0m\u001b[1;33m=\u001b[0m \u001b[1;32mFalse\u001b[0m\u001b[1;33m\u001b[0m\u001b[1;33m\u001b[0m\u001b[0m\n",
      "\u001b[1;32m~\\AppData\\Local\\Temp\\ipykernel_4420\\3884104036.py\u001b[0m in \u001b[0;36mcheckState\u001b[1;34m(closingPrice, binEdges)\u001b[0m\n\u001b[0;32m     21\u001b[0m \u001b[1;33m\u001b[0m\u001b[0m\n\u001b[0;32m     22\u001b[0m         \u001b[1;32mif\u001b[0m \u001b[1;33m(\u001b[0m\u001b[0me\u001b[0m \u001b[1;33m!=\u001b[0m \u001b[0mlen\u001b[0m\u001b[1;33m(\u001b[0m\u001b[0mbinEdges\u001b[0m\u001b[1;33m)\u001b[0m\u001b[1;33m-\u001b[0m\u001b[1;36m2\u001b[0m\u001b[1;33m)\u001b[0m\u001b[1;33m:\u001b[0m\u001b[1;33m\u001b[0m\u001b[1;33m\u001b[0m\u001b[0m\n\u001b[1;32m---> 23\u001b[1;33m             \u001b[1;32mif\u001b[0m \u001b[1;33m(\u001b[0m\u001b[0mclosingPrice\u001b[0m \u001b[1;33m>=\u001b[0m \u001b[0mleftEdge\u001b[0m\u001b[1;33m)\u001b[0m \u001b[1;33m&\u001b[0m \u001b[1;33m(\u001b[0m\u001b[0mclosingPrice\u001b[0m \u001b[1;33m<\u001b[0m \u001b[0mrightEdge\u001b[0m\u001b[1;33m)\u001b[0m\u001b[1;33m:\u001b[0m\u001b[1;33m\u001b[0m\u001b[1;33m\u001b[0m\u001b[0m\n\u001b[0m\u001b[0;32m     24\u001b[0m                 \u001b[0mstateValue\u001b[0m\u001b[1;33m=\u001b[0m \u001b[0me\u001b[0m\u001b[1;33m\u001b[0m\u001b[1;33m\u001b[0m\u001b[0m\n\u001b[0;32m     25\u001b[0m                 \u001b[1;32mbreak\u001b[0m\u001b[1;33m\u001b[0m\u001b[1;33m\u001b[0m\u001b[0m\n",
      "\u001b[1;31mUFuncTypeError\u001b[0m: ufunc 'less_equal' did not contain a loop with signature matching types (<class 'numpy.dtypes.Float64DType'>, <class 'numpy.dtypes.StrDType'>) -> None"
     ]
    }
   ],
   "source": [
    "buildMarkovMatrix(trMatrixNVDA2, df_nvidia_close2, binEdgesNVDA)"
   ]
  },
  {
   "cell_type": "code",
   "execution_count": 75,
   "id": "68e2cff0",
   "metadata": {},
   "outputs": [
    {
     "data": {
      "text/plain": [
       "array([[0.000, 0.000, 0.000],\n",
       "       [0.000, 0.000, 0.000],\n",
       "       [0.000, 0.000, 0.000]])"
      ]
     },
     "execution_count": 75,
     "metadata": {},
     "output_type": "execute_result"
    }
   ],
   "source": [
    "trMatrixNVDA2"
   ]
  },
  {
   "cell_type": "code",
   "execution_count": 76,
   "id": "e0e94f8b",
   "metadata": {},
   "outputs": [
    {
     "data": {
      "text/plain": [
       "array([[0.000, 0.000, 0.000],\n",
       "       [0.000, 0.000, 0.000],\n",
       "       [0.000, 0.000, 0.000]])"
      ]
     },
     "execution_count": 76,
     "metadata": {},
     "output_type": "execute_result"
    }
   ],
   "source": [
    "normalizeMarkovMatrix(trMatrixNVDA2)"
   ]
  },
  {
   "cell_type": "code",
   "execution_count": 77,
   "id": "5e571d69",
   "metadata": {},
   "outputs": [
    {
     "name": "stdout",
     "output_type": "stream",
     "text": [
      "buildMarkovMatrix:  price=NVDA\n"
     ]
    },
    {
     "ename": "UFuncTypeError",
     "evalue": "ufunc 'less_equal' did not contain a loop with signature matching types (<class 'numpy.dtypes.Float64DType'>, <class 'numpy.dtypes.StrDType'>) -> None",
     "output_type": "error",
     "traceback": [
      "\u001b[1;31m---------------------------------------------------------------------------\u001b[0m",
      "\u001b[1;31mUFuncTypeError\u001b[0m                            Traceback (most recent call last)",
      "\u001b[1;32m~\\AppData\\Local\\Temp\\ipykernel_4420\\2603455596.py\u001b[0m in \u001b[0;36m<module>\u001b[1;34m\u001b[0m\n\u001b[1;32m----> 1\u001b[1;33m \u001b[0mbuildMarkovMatrix\u001b[0m\u001b[1;33m(\u001b[0m\u001b[0mtrMatrixNVDA5\u001b[0m\u001b[1;33m,\u001b[0m \u001b[0mdf_nvidia_close5\u001b[0m\u001b[1;33m,\u001b[0m \u001b[0mbinEdgesNVDA\u001b[0m\u001b[1;33m)\u001b[0m\u001b[1;33m\u001b[0m\u001b[1;33m\u001b[0m\u001b[0m\n\u001b[0m",
      "\u001b[1;32m~\\AppData\\Local\\Temp\\ipykernel_4420\\3607681472.py\u001b[0m in \u001b[0;36mbuildMarkovMatrix\u001b[1;34m(trMatrix, df_data, binEdges)\u001b[0m\n\u001b[0;32m      8\u001b[0m         \u001b[0mprint\u001b[0m\u001b[1;33m(\u001b[0m\u001b[1;34mf'buildMarkovMatrix:  price={price}'\u001b[0m\u001b[1;33m)\u001b[0m\u001b[1;33m\u001b[0m\u001b[1;33m\u001b[0m\u001b[0m\n\u001b[0;32m      9\u001b[0m         \u001b[1;32mif\u001b[0m\u001b[1;33m(\u001b[0m\u001b[0mfirstTime\u001b[0m\u001b[1;33m)\u001b[0m\u001b[1;33m:\u001b[0m\u001b[1;33m\u001b[0m\u001b[1;33m\u001b[0m\u001b[0m\n\u001b[1;32m---> 10\u001b[1;33m             \u001b[0msNext\u001b[0m\u001b[1;33m=\u001b[0m \u001b[0mcheckState\u001b[0m\u001b[1;33m(\u001b[0m\u001b[0mprice\u001b[0m\u001b[1;33m,\u001b[0m \u001b[0mbinEdges\u001b[0m\u001b[1;33m)\u001b[0m\u001b[1;33m\u001b[0m\u001b[1;33m\u001b[0m\u001b[0m\n\u001b[0m\u001b[0;32m     11\u001b[0m             \u001b[0msCurr\u001b[0m\u001b[1;33m=\u001b[0m \u001b[0msNext\u001b[0m\u001b[1;33m\u001b[0m\u001b[1;33m\u001b[0m\u001b[0m\n\u001b[0;32m     12\u001b[0m             \u001b[0mfirstTime\u001b[0m\u001b[1;33m=\u001b[0m \u001b[1;32mFalse\u001b[0m\u001b[1;33m\u001b[0m\u001b[1;33m\u001b[0m\u001b[0m\n",
      "\u001b[1;32m~\\AppData\\Local\\Temp\\ipykernel_4420\\3884104036.py\u001b[0m in \u001b[0;36mcheckState\u001b[1;34m(closingPrice, binEdges)\u001b[0m\n\u001b[0;32m     21\u001b[0m \u001b[1;33m\u001b[0m\u001b[0m\n\u001b[0;32m     22\u001b[0m         \u001b[1;32mif\u001b[0m \u001b[1;33m(\u001b[0m\u001b[0me\u001b[0m \u001b[1;33m!=\u001b[0m \u001b[0mlen\u001b[0m\u001b[1;33m(\u001b[0m\u001b[0mbinEdges\u001b[0m\u001b[1;33m)\u001b[0m\u001b[1;33m-\u001b[0m\u001b[1;36m2\u001b[0m\u001b[1;33m)\u001b[0m\u001b[1;33m:\u001b[0m\u001b[1;33m\u001b[0m\u001b[1;33m\u001b[0m\u001b[0m\n\u001b[1;32m---> 23\u001b[1;33m             \u001b[1;32mif\u001b[0m \u001b[1;33m(\u001b[0m\u001b[0mclosingPrice\u001b[0m \u001b[1;33m>=\u001b[0m \u001b[0mleftEdge\u001b[0m\u001b[1;33m)\u001b[0m \u001b[1;33m&\u001b[0m \u001b[1;33m(\u001b[0m\u001b[0mclosingPrice\u001b[0m \u001b[1;33m<\u001b[0m \u001b[0mrightEdge\u001b[0m\u001b[1;33m)\u001b[0m\u001b[1;33m:\u001b[0m\u001b[1;33m\u001b[0m\u001b[1;33m\u001b[0m\u001b[0m\n\u001b[0m\u001b[0;32m     24\u001b[0m                 \u001b[0mstateValue\u001b[0m\u001b[1;33m=\u001b[0m \u001b[0me\u001b[0m\u001b[1;33m\u001b[0m\u001b[1;33m\u001b[0m\u001b[0m\n\u001b[0;32m     25\u001b[0m                 \u001b[1;32mbreak\u001b[0m\u001b[1;33m\u001b[0m\u001b[1;33m\u001b[0m\u001b[0m\n",
      "\u001b[1;31mUFuncTypeError\u001b[0m: ufunc 'less_equal' did not contain a loop with signature matching types (<class 'numpy.dtypes.Float64DType'>, <class 'numpy.dtypes.StrDType'>) -> None"
     ]
    }
   ],
   "source": [
    "buildMarkovMatrix(trMatrixNVDA5, df_nvidia_close5, binEdgesNVDA)"
   ]
  },
  {
   "cell_type": "code",
   "execution_count": 78,
   "id": "e3e49d24",
   "metadata": {},
   "outputs": [
    {
     "data": {
      "text/plain": [
       "array([[0.000, 0.000, 0.000],\n",
       "       [0.000, 0.000, 0.000],\n",
       "       [0.000, 0.000, 0.000]])"
      ]
     },
     "execution_count": 78,
     "metadata": {},
     "output_type": "execute_result"
    }
   ],
   "source": [
    "trMatrixNVDA5"
   ]
  },
  {
   "cell_type": "code",
   "execution_count": 79,
   "id": "e894a4f7",
   "metadata": {},
   "outputs": [
    {
     "data": {
      "text/plain": [
       "array([[0.000, 0.000, 0.000],\n",
       "       [0.000, 0.000, 0.000],\n",
       "       [0.000, 0.000, 0.000]])"
      ]
     },
     "execution_count": 79,
     "metadata": {},
     "output_type": "execute_result"
    }
   ],
   "source": [
    "normalizeMarkovMatrix(trMatrixNVDA2)"
   ]
  },
  {
   "cell_type": "code",
   "execution_count": 80,
   "id": "a7c81de1",
   "metadata": {},
   "outputs": [
    {
     "data": {
      "text/plain": [
       "array([1.000, 0.000, 0.000])"
      ]
     },
     "execution_count": 80,
     "metadata": {},
     "output_type": "execute_result"
    }
   ],
   "source": [
    "initState= 0\n",
    "P0= np.zeros(NUM_BINS)\n",
    "P0[initState]= 1\n",
    "\n",
    "P0"
   ]
  },
  {
   "cell_type": "code",
   "execution_count": null,
   "id": "d5f3ce59",
   "metadata": {},
   "outputs": [],
   "source": []
  },
  {
   "cell_type": "code",
   "execution_count": 81,
   "id": "be81c13d",
   "metadata": {},
   "outputs": [],
   "source": [
    "# predictMarkovChain(5,trMatrixNVDA2,binEdgesNVDA2)"
   ]
  },
  {
   "cell_type": "code",
   "execution_count": 82,
   "id": "90e7635c",
   "metadata": {},
   "outputs": [
    {
     "name": "stdout",
     "output_type": "stream",
     "text": [
      "converged iteration(2):  P_2= [0.000 0.000 0.000]\n",
      "landing prob P_3:  P_3= [0.000 0.000 0.000]\n"
     ]
    }
   ],
   "source": [
    "# idk why the 2 year ones are like not converging\n",
    "PiA2= findLandingToConvergence(100,P0,trMatrixAAPL2)"
   ]
  },
  {
   "cell_type": "code",
   "execution_count": 83,
   "id": "5b6fed75",
   "metadata": {},
   "outputs": [
    {
     "name": "stdout",
     "output_type": "stream",
     "text": [
      "converged iteration(2):  P_2= [0.000 0.000 0.000]\n",
      "landing prob P_3:  P_3= [0.000 0.000 0.000]\n"
     ]
    }
   ],
   "source": [
    "PiA5= findLandingToConvergence(100,P0,trMatrixAAPL5)"
   ]
  },
  {
   "cell_type": "code",
   "execution_count": 84,
   "id": "c04379d5",
   "metadata": {},
   "outputs": [
    {
     "name": "stdout",
     "output_type": "stream",
     "text": [
      "converged iteration(2):  P_2= [0.000 0.000 0.000]\n",
      "landing prob P_3:  P_3= [0.000 0.000 0.000]\n"
     ]
    }
   ],
   "source": [
    "PiN2= findLandingToConvergence(100,P0,trMatrixNVDA2)"
   ]
  },
  {
   "cell_type": "code",
   "execution_count": 85,
   "id": "11284c7b",
   "metadata": {},
   "outputs": [
    {
     "name": "stdout",
     "output_type": "stream",
     "text": [
      "converged iteration(2):  P_2= [0.000 0.000 0.000]\n",
      "landing prob P_3:  P_3= [0.000 0.000 0.000]\n"
     ]
    }
   ],
   "source": [
    "PiN5= findLandingToConvergence(100,P0,trMatrixNVDA5)"
   ]
  },
  {
   "cell_type": "code",
   "execution_count": 86,
   "id": "e2340959",
   "metadata": {},
   "outputs": [
    {
     "data": {
      "text/plain": [
       "0.0"
      ]
     },
     "execution_count": 86,
     "metadata": {},
     "output_type": "execute_result"
    }
   ],
   "source": [
    "np.sum(PiA2)"
   ]
  },
  {
   "cell_type": "code",
   "execution_count": 87,
   "id": "95014ec4",
   "metadata": {},
   "outputs": [
    {
     "data": {
      "text/plain": [
       "0.0"
      ]
     },
     "execution_count": 87,
     "metadata": {},
     "output_type": "execute_result"
    }
   ],
   "source": [
    "np.sum(PiA5)"
   ]
  },
  {
   "cell_type": "code",
   "execution_count": 88,
   "id": "2229ba84",
   "metadata": {},
   "outputs": [
    {
     "data": {
      "text/plain": [
       "0.0"
      ]
     },
     "execution_count": 88,
     "metadata": {},
     "output_type": "execute_result"
    }
   ],
   "source": [
    "np.sum(PiN2)"
   ]
  },
  {
   "cell_type": "code",
   "execution_count": 89,
   "id": "f537573b",
   "metadata": {},
   "outputs": [
    {
     "data": {
      "text/plain": [
       "0.0"
      ]
     },
     "execution_count": 89,
     "metadata": {},
     "output_type": "execute_result"
    }
   ],
   "source": [
    "np.sum(PiN5)"
   ]
  },
  {
   "cell_type": "code",
   "execution_count": 90,
   "id": "4c3d573e-733e-4dfe-9fa5-e962b5fcb588",
   "metadata": {},
   "outputs": [],
   "source": [
    "########\n",
    "# Experiments\n",
    "#\n",
    "# This will appear in your written work.   You will design a function called\n",
    "# runExperiment(...)  that allows you to vary the states and the time horizon\n",
    "#\n",
    "# 1.  Select a company\n",
    "# 2.  Donwload 2 years worth of stock data\n",
    "# 3.  Using Closing Price design an experemnt that measures generlization performance of\n",
    "#     - Markov Chain of varying state sizes, 2, 3, 4,...10\n",
    "#\n",
    "#     - Measure generalization performance for predictions on time horizons of timesteps (days)\n",
    "#       h= 1,...,10\n",
    "#\n",
    "#     - discuss how generalization performance changes as you change the number of states and\n",
    "#       the time horizon h.   For example...\n",
    "#\n",
    "#       generalizaton(states=2, h=1)\n",
    "#       generalizaton(states=2, h=2)\n",
    "#       generalizaton(states=2, h=3)\n",
    "#            .\n",
    "#            .\n",
    "#            .\n",
    "#       generalizaton(states=10, h=1)\n",
    "#       generalization(states=10,h=2)\n",
    "#            .\n",
    "#            .\n",
    "#            .\n",
    "#       generalization(states=10,h=10)\n",
    "####\n",
    "\n",
    "# just running this a bunch of times and analyzing results. use abstraction (do a for loop)"
   ]
  },
  {
   "cell_type": "code",
   "execution_count": null,
   "id": "b3dc5d53-e167-4e09-a6af-e5708e28ee53",
   "metadata": {},
   "outputs": [],
   "source": []
  },
  {
   "cell_type": "code",
   "execution_count": null,
   "id": "e5bbe148-83bf-4ca3-b691-129dfa44d2ea",
   "metadata": {},
   "outputs": [],
   "source": []
  }
 ],
 "metadata": {
  "kernelspec": {
   "display_name": "Python 3 (ipykernel)",
   "language": "python",
   "name": "python3"
  },
  "language_info": {
   "codemirror_mode": {
    "name": "ipython",
    "version": 3
   },
   "file_extension": ".py",
   "mimetype": "text/x-python",
   "name": "python",
   "nbconvert_exporter": "python",
   "pygments_lexer": "ipython3",
   "version": "3.9.13"
  }
 },
 "nbformat": 4,
 "nbformat_minor": 5
}
